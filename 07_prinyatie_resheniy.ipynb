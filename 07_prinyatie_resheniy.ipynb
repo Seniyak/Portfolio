{
 "cells": [
  {
   "cell_type": "markdown",
   "metadata": {},
   "source": [
    "# Проект: Принятие решений в бизнесе"
   ]
  },
  {
   "cell_type": "markdown",
   "metadata": {},
   "source": [
    "## Введение"
   ]
  },
  {
   "cell_type": "markdown",
   "metadata": {},
   "source": [
    "### Контекст\n",
    "\n",
    "Я — аналитик крупного интернет-магазина. Вместе с отделом маркетинга я подготовил список гипотез для увеличения выручки.\n",
    "\n",
    "### Цель работы\n",
    "\n",
    "Выполнить приоритизацию гипотез, запустить A/B-тест и проанализировать результаты.\n",
    "\n",
    "### Описание данных\n",
    "\n",
    "#### Данные для первой части\n",
    "\n",
    "Файл /datasets/hypothesis.csv\n",
    "\n",
    "- Hypothesis — краткое описание гипотезы;\n",
    "- Reach — охват пользователей по 10-балльной шкале;\n",
    "- Impact — влияние на пользователей по 10-балльной шкале;\n",
    "- Confidence — уверенность в гипотезе по 10-балльной шкале;\n",
    "- Efforts — затраты ресурсов на проверку гипотезы по 10-балльной шкале. Чем больше значение Efforts, тем дороже проверка гипотезы.\n",
    "\n",
    "#### Данные для второй части\n",
    "\n",
    "Файл /datasets/orders.csv\n",
    "\n",
    "- transactionId — идентификатор заказа;\n",
    "- visitorId — идентификатор пользователя, совершившего заказ;\n",
    "- date — дата, когда был совершён заказ;\n",
    "- revenue — выручка заказа;\n",
    "- group — группа A/B-теста, в которую попал заказ.\n",
    "\n",
    "Файл /datasets/visitors.csv\n",
    "\n",
    "- date — дата;\n",
    "- group — группа A/B-теста;"
   ]
  },
  {
   "cell_type": "markdown",
   "metadata": {},
   "source": [
    "\n",
    "### Загрузка данных"
   ]
  },
  {
   "cell_type": "code",
   "execution_count": null,
   "metadata": {},
   "outputs": [],
   "source": [
    "# Импорт библиотек\n",
    "import pandas as pd\n",
    "from pandas.plotting import register_matplotlib_converters\n",
    "import datetime as dt\n",
    "from datetime import datetime, timedelta\n",
    "#import time\n",
    "import numpy as np\n",
    "#import random\n",
    "import matplotlib as mp\n",
    "import matplotlib.pyplot as plt\n",
    "#import seaborn as sns\n",
    "import scipy.stats as stats\n",
    "import warnings\n",
    "warnings.filterwarnings(\"ignore\")\n",
    "# Настройка формата отображения чисел с типом  float в pandas\n",
    "pd.set_option(\"display.float_format\", \"{:.2f}\".format)\n",
    "register_matplotlib_converters()\n",
    "pd.options.display.max_colwidth = 130"
   ]
  },
  {
   "cell_type": "code",
   "execution_count": 2,
   "metadata": {},
   "outputs": [],
   "source": [
    "try:\n",
    "    open('/home/NieR/NierAutomata/Practicum/datasets/hypothesis.csv')\n",
    "    data = '/home/NieR/NierAutomata/Practicum/datasets/hypothesis.csv'\n",
    "    open('/home/NieR/NierAutomata/Practicum/datasets/orders.csv')\n",
    "    orders = '/home/NieR/NierAutomata/Practicum/datasets/orders.csv'\n",
    "    open('/home/NieR/NierAutomata/Practicum/datasets/visitors.csv')\n",
    "    visitors = '/home/NieR/NierAutomata/Practicum/datasets/visitors.csv'\n",
    "except:\n",
    "    data = '/datasets/hypothesis.csv'\n",
    "    orders = '/datasets/orders.csv'\n",
    "    visitors = '/datasets/visitors.csv'"
   ]
  },
  {
   "cell_type": "code",
   "execution_count": 3,
   "metadata": {},
   "outputs": [],
   "source": [
    "def view(file_path):\n",
    "    with open(file_path, 'r') as file:\n",
    "        for i in range(5):\n",
    "            print(file.readline())\n",
    "    file.close()\n",
    "    return"
   ]
  },
  {
   "cell_type": "code",
   "execution_count": 4,
   "metadata": {},
   "outputs": [],
   "source": [
    "def overview(list):\n",
    "    for i in range(len(list)):\n",
    "        print('Первые пять строк файла \"', list[i], '\":\\n')\n",
    "        view(list[i])\n",
    "        print('\\n')\n",
    "    return"
   ]
  },
  {
   "cell_type": "code",
   "execution_count": 5,
   "metadata": {},
   "outputs": [
    {
     "name": "stdout",
     "output_type": "stream",
     "text": [
      "Первые пять строк файла \" /datasets/hypothesis.csv \":\n",
      "\n",
      "Hypothesis,Reach,Impact,Confidence,Efforts\n",
      "\n",
      "\"Добавить два новых канала привлечения трафика, что позволит привлекать на 30% больше пользователей\",3,10,8,6\n",
      "\n",
      "\"Запустить собственную службу доставки, что сократит срок доставки заказов\",2,5,4,10\n",
      "\n",
      "\"Добавить блоки рекомендаций товаров на сайт интернет магазина, чтобы повысить конверсию и средний чек заказа\",8,3,7,3\n",
      "\n",
      "\"Изменить структура категорий, что увеличит конверсию, т.к. пользователи быстрее найдут нужный товар\",8,3,3,8\n",
      "\n",
      "\n",
      "\n",
      "Первые пять строк файла \" /datasets/orders.csv \":\n",
      "\n",
      "transactionId,visitorId,date,revenue,group\n",
      "\n",
      "3667963787,3312258926,2019-08-15,1650,B\n",
      "\n",
      "2804400009,3642806036,2019-08-15,730,B\n",
      "\n",
      "2961555356,4069496402,2019-08-15,400,A\n",
      "\n",
      "3797467345,1196621759,2019-08-15,9759,B\n",
      "\n",
      "\n",
      "\n",
      "Первые пять строк файла \" /datasets/visitors.csv \":\n",
      "\n",
      "date,group,visitors\n",
      "\n",
      "2019-08-01,A,719\n",
      "\n",
      "2019-08-02,A,619\n",
      "\n",
      "2019-08-03,A,507\n",
      "\n",
      "2019-08-04,A,717\n",
      "\n",
      "\n",
      "\n"
     ]
    }
   ],
   "source": [
    "overview([data,orders,visitors])"
   ]
  },
  {
   "cell_type": "markdown",
   "metadata": {},
   "source": [
    "<div style=\"border:solid Blue 2px; padding: 20px\">\n",
    "\n",
    "**Вывод:** Данные датасетов  в csv файлах представлены в стандартном формате, с разделителем \",\". Импорт содержимого файлов можно выполнить стандартными средствами, без указания дополнительных параметров.\n",
    "    \n",
    "</div>"
   ]
  },
  {
   "cell_type": "markdown",
   "metadata": {},
   "source": [
    "### Загрузка файлов с данными в датафреймы pandas"
   ]
  },
  {
   "cell_type": "code",
   "execution_count": 6,
   "metadata": {},
   "outputs": [],
   "source": [
    "data, orders, visitors = (pd.read_csv(data),\n",
    "                                pd.read_csv(orders),\n",
    "                                pd.read_csv(visitors)\n",
    "                                )"
   ]
  },
  {
   "cell_type": "markdown",
   "metadata": {},
   "source": [
    "### Обзор общей информации датафреймов"
   ]
  },
  {
   "cell_type": "code",
   "execution_count": 7,
   "metadata": {},
   "outputs": [],
   "source": [
    "def overview_df(list):\n",
    "    for i in range(len(list)):\n",
    "        print(list[i].info())\n",
    "        display(list[i].head())\n",
    "        print('Количество явных дубликатов:', list[i].duplicated().sum())\n",
    "        print('\\nКоличество пропусков в столбцах:\\n')\n",
    "        print(list[i].isna().sum())\n",
    "        print('\\n\\n')\n",
    "    return"
   ]
  },
  {
   "cell_type": "code",
   "execution_count": 8,
   "metadata": {},
   "outputs": [
    {
     "name": "stdout",
     "output_type": "stream",
     "text": [
      "<class 'pandas.core.frame.DataFrame'>\n",
      "RangeIndex: 9 entries, 0 to 8\n",
      "Data columns (total 5 columns):\n",
      " #   Column      Non-Null Count  Dtype \n",
      "---  ------      --------------  ----- \n",
      " 0   Hypothesis  9 non-null      object\n",
      " 1   Reach       9 non-null      int64 \n",
      " 2   Impact      9 non-null      int64 \n",
      " 3   Confidence  9 non-null      int64 \n",
      " 4   Efforts     9 non-null      int64 \n",
      "dtypes: int64(4), object(1)\n",
      "memory usage: 488.0+ bytes\n",
      "None\n"
     ]
    },
    {
     "data": {
      "text/html": [
       "<div>\n",
       "<style scoped>\n",
       "    .dataframe tbody tr th:only-of-type {\n",
       "        vertical-align: middle;\n",
       "    }\n",
       "\n",
       "    .dataframe tbody tr th {\n",
       "        vertical-align: top;\n",
       "    }\n",
       "\n",
       "    .dataframe thead th {\n",
       "        text-align: right;\n",
       "    }\n",
       "</style>\n",
       "<table border=\"1\" class=\"dataframe\">\n",
       "  <thead>\n",
       "    <tr style=\"text-align: right;\">\n",
       "      <th></th>\n",
       "      <th>Hypothesis</th>\n",
       "      <th>Reach</th>\n",
       "      <th>Impact</th>\n",
       "      <th>Confidence</th>\n",
       "      <th>Efforts</th>\n",
       "    </tr>\n",
       "  </thead>\n",
       "  <tbody>\n",
       "    <tr>\n",
       "      <th>0</th>\n",
       "      <td>Добавить два новых канала привлечения трафика, что позволит привлекать на 30% больше пользователей</td>\n",
       "      <td>3</td>\n",
       "      <td>10</td>\n",
       "      <td>8</td>\n",
       "      <td>6</td>\n",
       "    </tr>\n",
       "    <tr>\n",
       "      <th>1</th>\n",
       "      <td>Запустить собственную службу доставки, что сократит срок доставки заказов</td>\n",
       "      <td>2</td>\n",
       "      <td>5</td>\n",
       "      <td>4</td>\n",
       "      <td>10</td>\n",
       "    </tr>\n",
       "    <tr>\n",
       "      <th>2</th>\n",
       "      <td>Добавить блоки рекомендаций товаров на сайт интернет магазина, чтобы повысить конверсию и средний чек заказа</td>\n",
       "      <td>8</td>\n",
       "      <td>3</td>\n",
       "      <td>7</td>\n",
       "      <td>3</td>\n",
       "    </tr>\n",
       "    <tr>\n",
       "      <th>3</th>\n",
       "      <td>Изменить структура категорий, что увеличит конверсию, т.к. пользователи быстрее найдут нужный товар</td>\n",
       "      <td>8</td>\n",
       "      <td>3</td>\n",
       "      <td>3</td>\n",
       "      <td>8</td>\n",
       "    </tr>\n",
       "    <tr>\n",
       "      <th>4</th>\n",
       "      <td>Изменить цвет фона главной страницы, чтобы увеличить вовлеченность пользователей</td>\n",
       "      <td>3</td>\n",
       "      <td>1</td>\n",
       "      <td>1</td>\n",
       "      <td>1</td>\n",
       "    </tr>\n",
       "  </tbody>\n",
       "</table>\n",
       "</div>"
      ],
      "text/plain": [
       "                                                                                                     Hypothesis  \\\n",
       "0            Добавить два новых канала привлечения трафика, что позволит привлекать на 30% больше пользователей   \n",
       "1                                     Запустить собственную службу доставки, что сократит срок доставки заказов   \n",
       "2  Добавить блоки рекомендаций товаров на сайт интернет магазина, чтобы повысить конверсию и средний чек заказа   \n",
       "3           Изменить структура категорий, что увеличит конверсию, т.к. пользователи быстрее найдут нужный товар   \n",
       "4                              Изменить цвет фона главной страницы, чтобы увеличить вовлеченность пользователей   \n",
       "\n",
       "   Reach  Impact  Confidence  Efforts  \n",
       "0      3      10           8        6  \n",
       "1      2       5           4       10  \n",
       "2      8       3           7        3  \n",
       "3      8       3           3        8  \n",
       "4      3       1           1        1  "
      ]
     },
     "metadata": {},
     "output_type": "display_data"
    },
    {
     "name": "stdout",
     "output_type": "stream",
     "text": [
      "Количество явных дубликатов: 0\n",
      "\n",
      "Количество пропусков в столбцах:\n",
      "\n",
      "Hypothesis    0\n",
      "Reach         0\n",
      "Impact        0\n",
      "Confidence    0\n",
      "Efforts       0\n",
      "dtype: int64\n",
      "\n",
      "\n",
      "\n",
      "<class 'pandas.core.frame.DataFrame'>\n",
      "RangeIndex: 1197 entries, 0 to 1196\n",
      "Data columns (total 5 columns):\n",
      " #   Column         Non-Null Count  Dtype \n",
      "---  ------         --------------  ----- \n",
      " 0   transactionId  1197 non-null   int64 \n",
      " 1   visitorId      1197 non-null   int64 \n",
      " 2   date           1197 non-null   object\n",
      " 3   revenue        1197 non-null   int64 \n",
      " 4   group          1197 non-null   object\n",
      "dtypes: int64(3), object(2)\n",
      "memory usage: 46.9+ KB\n",
      "None\n"
     ]
    },
    {
     "data": {
      "text/html": [
       "<div>\n",
       "<style scoped>\n",
       "    .dataframe tbody tr th:only-of-type {\n",
       "        vertical-align: middle;\n",
       "    }\n",
       "\n",
       "    .dataframe tbody tr th {\n",
       "        vertical-align: top;\n",
       "    }\n",
       "\n",
       "    .dataframe thead th {\n",
       "        text-align: right;\n",
       "    }\n",
       "</style>\n",
       "<table border=\"1\" class=\"dataframe\">\n",
       "  <thead>\n",
       "    <tr style=\"text-align: right;\">\n",
       "      <th></th>\n",
       "      <th>transactionId</th>\n",
       "      <th>visitorId</th>\n",
       "      <th>date</th>\n",
       "      <th>revenue</th>\n",
       "      <th>group</th>\n",
       "    </tr>\n",
       "  </thead>\n",
       "  <tbody>\n",
       "    <tr>\n",
       "      <th>0</th>\n",
       "      <td>3667963787</td>\n",
       "      <td>3312258926</td>\n",
       "      <td>2019-08-15</td>\n",
       "      <td>1650</td>\n",
       "      <td>B</td>\n",
       "    </tr>\n",
       "    <tr>\n",
       "      <th>1</th>\n",
       "      <td>2804400009</td>\n",
       "      <td>3642806036</td>\n",
       "      <td>2019-08-15</td>\n",
       "      <td>730</td>\n",
       "      <td>B</td>\n",
       "    </tr>\n",
       "    <tr>\n",
       "      <th>2</th>\n",
       "      <td>2961555356</td>\n",
       "      <td>4069496402</td>\n",
       "      <td>2019-08-15</td>\n",
       "      <td>400</td>\n",
       "      <td>A</td>\n",
       "    </tr>\n",
       "    <tr>\n",
       "      <th>3</th>\n",
       "      <td>3797467345</td>\n",
       "      <td>1196621759</td>\n",
       "      <td>2019-08-15</td>\n",
       "      <td>9759</td>\n",
       "      <td>B</td>\n",
       "    </tr>\n",
       "    <tr>\n",
       "      <th>4</th>\n",
       "      <td>2282983706</td>\n",
       "      <td>2322279887</td>\n",
       "      <td>2019-08-15</td>\n",
       "      <td>2308</td>\n",
       "      <td>B</td>\n",
       "    </tr>\n",
       "  </tbody>\n",
       "</table>\n",
       "</div>"
      ],
      "text/plain": [
       "   transactionId   visitorId        date  revenue group\n",
       "0     3667963787  3312258926  2019-08-15     1650     B\n",
       "1     2804400009  3642806036  2019-08-15      730     B\n",
       "2     2961555356  4069496402  2019-08-15      400     A\n",
       "3     3797467345  1196621759  2019-08-15     9759     B\n",
       "4     2282983706  2322279887  2019-08-15     2308     B"
      ]
     },
     "metadata": {},
     "output_type": "display_data"
    },
    {
     "name": "stdout",
     "output_type": "stream",
     "text": [
      "Количество явных дубликатов: 0\n",
      "\n",
      "Количество пропусков в столбцах:\n",
      "\n",
      "transactionId    0\n",
      "visitorId        0\n",
      "date             0\n",
      "revenue          0\n",
      "group            0\n",
      "dtype: int64\n",
      "\n",
      "\n",
      "\n",
      "<class 'pandas.core.frame.DataFrame'>\n",
      "RangeIndex: 62 entries, 0 to 61\n",
      "Data columns (total 3 columns):\n",
      " #   Column    Non-Null Count  Dtype \n",
      "---  ------    --------------  ----- \n",
      " 0   date      62 non-null     object\n",
      " 1   group     62 non-null     object\n",
      " 2   visitors  62 non-null     int64 \n",
      "dtypes: int64(1), object(2)\n",
      "memory usage: 1.6+ KB\n",
      "None\n"
     ]
    },
    {
     "data": {
      "text/html": [
       "<div>\n",
       "<style scoped>\n",
       "    .dataframe tbody tr th:only-of-type {\n",
       "        vertical-align: middle;\n",
       "    }\n",
       "\n",
       "    .dataframe tbody tr th {\n",
       "        vertical-align: top;\n",
       "    }\n",
       "\n",
       "    .dataframe thead th {\n",
       "        text-align: right;\n",
       "    }\n",
       "</style>\n",
       "<table border=\"1\" class=\"dataframe\">\n",
       "  <thead>\n",
       "    <tr style=\"text-align: right;\">\n",
       "      <th></th>\n",
       "      <th>date</th>\n",
       "      <th>group</th>\n",
       "      <th>visitors</th>\n",
       "    </tr>\n",
       "  </thead>\n",
       "  <tbody>\n",
       "    <tr>\n",
       "      <th>0</th>\n",
       "      <td>2019-08-01</td>\n",
       "      <td>A</td>\n",
       "      <td>719</td>\n",
       "    </tr>\n",
       "    <tr>\n",
       "      <th>1</th>\n",
       "      <td>2019-08-02</td>\n",
       "      <td>A</td>\n",
       "      <td>619</td>\n",
       "    </tr>\n",
       "    <tr>\n",
       "      <th>2</th>\n",
       "      <td>2019-08-03</td>\n",
       "      <td>A</td>\n",
       "      <td>507</td>\n",
       "    </tr>\n",
       "    <tr>\n",
       "      <th>3</th>\n",
       "      <td>2019-08-04</td>\n",
       "      <td>A</td>\n",
       "      <td>717</td>\n",
       "    </tr>\n",
       "    <tr>\n",
       "      <th>4</th>\n",
       "      <td>2019-08-05</td>\n",
       "      <td>A</td>\n",
       "      <td>756</td>\n",
       "    </tr>\n",
       "  </tbody>\n",
       "</table>\n",
       "</div>"
      ],
      "text/plain": [
       "         date group  visitors\n",
       "0  2019-08-01     A       719\n",
       "1  2019-08-02     A       619\n",
       "2  2019-08-03     A       507\n",
       "3  2019-08-04     A       717\n",
       "4  2019-08-05     A       756"
      ]
     },
     "metadata": {},
     "output_type": "display_data"
    },
    {
     "name": "stdout",
     "output_type": "stream",
     "text": [
      "Количество явных дубликатов: 0\n",
      "\n",
      "Количество пропусков в столбцах:\n",
      "\n",
      "date        0\n",
      "group       0\n",
      "visitors    0\n",
      "dtype: int64\n",
      "\n",
      "\n",
      "\n"
     ]
    }
   ],
   "source": [
    "overview_df([data,orders,visitors])"
   ]
  },
  {
   "cell_type": "markdown",
   "metadata": {},
   "source": [
    "### Предобработка данных"
   ]
  },
  {
   "cell_type": "markdown",
   "metadata": {},
   "source": [
    "#### Переименование столбцов"
   ]
  },
  {
   "cell_type": "code",
   "execution_count": 9,
   "metadata": {},
   "outputs": [],
   "source": [
    "def rename(list):\n",
    "    for i in range(len(list)):\n",
    "        list[i].columns = [x.lower().replace(' ', '_') for x in list[i].columns]\n",
    "    return"
   ]
  },
  {
   "cell_type": "code",
   "execution_count": 10,
   "metadata": {},
   "outputs": [],
   "source": [
    "rename([data,orders,visitors])"
   ]
  },
  {
   "cell_type": "code",
   "execution_count": 11,
   "metadata": {},
   "outputs": [],
   "source": [
    "# Некоторые столбцы будут переименованы, для того чтобы можно было воспользоваться наработками ранее написанного кода\n",
    "orders = orders.rename(columns={'transactionid':'orderId', 'visitorid':'userId'})"
   ]
  },
  {
   "cell_type": "markdown",
   "metadata": {},
   "source": [
    "#### Изменение типов данных"
   ]
  },
  {
   "cell_type": "code",
   "execution_count": 12,
   "metadata": {},
   "outputs": [],
   "source": [
    "orders['date'] = pd.to_datetime(orders['date'])\n",
    "visitors['date'] = pd.to_datetime(visitors['date'])"
   ]
  },
  {
   "cell_type": "markdown",
   "metadata": {},
   "source": [
    "<div style=\"border:solid Blue 2px; padding: 20px\">\n",
    "\n",
    "**Вывод:** Данные датасетов загружены в датафреймы и подготовлены для дальнейшего анализ. Мы проверили их на наличие пропусков (пропуски отсутствуют), наличие явных дубликатов (дубликаты отсутствуют), соответствие типов данных (исправили тип данных в столбцах даты и времени), исправили стилистические ошибки (привели названия всех столбцов в датафреймах к единому стилю).\n",
    "    \n",
    " </div>"
   ]
  },
  {
   "cell_type": "markdown",
   "metadata": {},
   "source": [
    "### Проведем дополнительный исследовательский анализ имеющихся данных"
   ]
  },
  {
   "cell_type": "markdown",
   "metadata": {},
   "source": [
    "#### Посмотрим сколько у нас групп в АВ-тесте"
   ]
  },
  {
   "cell_type": "code",
   "execution_count": 13,
   "metadata": {
    "scrolled": true
   },
   "outputs": [
    {
     "data": {
      "text/plain": [
       "array(['B', 'A'], dtype=object)"
      ]
     },
     "execution_count": 13,
     "metadata": {},
     "output_type": "execute_result"
    }
   ],
   "source": [
    "orders['group'].unique()"
   ]
  },
  {
   "cell_type": "markdown",
   "metadata": {},
   "source": [
    "Данные для АВ-теста представлены двумя группами - А и В."
   ]
  },
  {
   "cell_type": "markdown",
   "metadata": {},
   "source": [
    "#### Рассмотрим количество пользователей в каждой группе - по таблице с заказами"
   ]
  },
  {
   "cell_type": "code",
   "execution_count": 14,
   "metadata": {
    "scrolled": true
   },
   "outputs": [
    {
     "data": {
      "text/html": [
       "<div>\n",
       "<style scoped>\n",
       "    .dataframe tbody tr th:only-of-type {\n",
       "        vertical-align: middle;\n",
       "    }\n",
       "\n",
       "    .dataframe tbody tr th {\n",
       "        vertical-align: top;\n",
       "    }\n",
       "\n",
       "    .dataframe thead th {\n",
       "        text-align: right;\n",
       "    }\n",
       "</style>\n",
       "<table border=\"1\" class=\"dataframe\">\n",
       "  <thead>\n",
       "    <tr style=\"text-align: right;\">\n",
       "      <th></th>\n",
       "      <th>group</th>\n",
       "      <th>userId</th>\n",
       "    </tr>\n",
       "  </thead>\n",
       "  <tbody>\n",
       "    <tr>\n",
       "      <th>0</th>\n",
       "      <td>A</td>\n",
       "      <td>503</td>\n",
       "    </tr>\n",
       "    <tr>\n",
       "      <th>1</th>\n",
       "      <td>B</td>\n",
       "      <td>586</td>\n",
       "    </tr>\n",
       "  </tbody>\n",
       "</table>\n",
       "</div>"
      ],
      "text/plain": [
       "  group  userId\n",
       "0     A     503\n",
       "1     B     586"
      ]
     },
     "execution_count": 14,
     "metadata": {},
     "output_type": "execute_result"
    }
   ],
   "source": [
    "orders.groupby('group', as_index=False).agg({'userId': pd.Series.nunique})"
   ]
  },
  {
   "cell_type": "markdown",
   "metadata": {},
   "source": [
    "Количество пользователей в группе Б больше, чем в группе А, примерно на 20%"
   ]
  },
  {
   "cell_type": "markdown",
   "metadata": {},
   "source": [
    "#### Посмотрим динамику посетителей по дням по группам"
   ]
  },
  {
   "cell_type": "code",
   "execution_count": 15,
   "metadata": {
    "scrolled": true
   },
   "outputs": [
    {
     "data": {
      "image/png": "[encoded data removed]",
      "text/plain": [
       "<Figure size 1080x288 with 1 Axes>"
      ]
     },
     "metadata": {
      "needs_background": "light"
     },
     "output_type": "display_data"
    }
   ],
   "source": [
    "plt.figure(figsize=(15, 4))\n",
    "visitors_A = visitors[visitors['group']=='A']\n",
    "visitors_B = visitors[visitors['group']=='B']\n",
    "plt.plot(visitors_A['date'], visitors_A['visitors'], label='A')\n",
    "plt.plot(visitors_B['date'], visitors_B['visitors'], label='B')\n",
    "plt.legend()\n",
    "plt.xticks(rotation=45)\n",
    "plt.title(\"Динамика посетителей по дням по группам\")\n",
    "plt.ylabel(\"Количество посетителей\")\n",
    "plt.xlabel(\"Дата\")\n",
    "\n",
    "plt.show()"
   ]
  },
  {
   "cell_type": "markdown",
   "metadata": {},
   "source": [
    "Как видно из графика, динамика посетителей по дням совпадает в обеих группах, находится в диапазоне от 350 до 750 посетителей в день и имеет ярко выраженную цикличность"
   ]
  },
  {
   "cell_type": "markdown",
   "metadata": {},
   "source": [
    "## Часть 1. Приоритизация гипотез"
   ]
  },
  {
   "cell_type": "markdown",
   "metadata": {},
   "source": [
    "### Применим фреймворк ICE для приоритизации гипотез. Отсортируем их по убыванию приоритета."
   ]
  },
  {
   "cell_type": "code",
   "execution_count": 16,
   "metadata": {},
   "outputs": [
    {
     "data": {
      "text/html": [
       "<div>\n",
       "<style scoped>\n",
       "    .dataframe tbody tr th:only-of-type {\n",
       "        vertical-align: middle;\n",
       "    }\n",
       "\n",
       "    .dataframe tbody tr th {\n",
       "        vertical-align: top;\n",
       "    }\n",
       "\n",
       "    .dataframe thead th {\n",
       "        text-align: right;\n",
       "    }\n",
       "</style>\n",
       "<table border=\"1\" class=\"dataframe\">\n",
       "  <thead>\n",
       "    <tr style=\"text-align: right;\">\n",
       "      <th></th>\n",
       "      <th>hypothesis</th>\n",
       "      <th>ICE</th>\n",
       "    </tr>\n",
       "  </thead>\n",
       "  <tbody>\n",
       "    <tr>\n",
       "      <th>8</th>\n",
       "      <td>Запустить акцию, дающую скидку на товар в день рождения</td>\n",
       "      <td>16.20</td>\n",
       "    </tr>\n",
       "    <tr>\n",
       "      <th>0</th>\n",
       "      <td>Добавить два новых канала привлечения трафика, что позволит привлекать на 30% больше пользователей</td>\n",
       "      <td>13.33</td>\n",
       "    </tr>\n",
       "    <tr>\n",
       "      <th>7</th>\n",
       "      <td>Добавить форму подписки на все основные страницы, чтобы собрать базу клиентов для email-рассылок</td>\n",
       "      <td>11.20</td>\n",
       "    </tr>\n",
       "    <tr>\n",
       "      <th>6</th>\n",
       "      <td>Показать на главной странице баннеры с актуальными акциями и распродажами, чтобы увеличить конверсию</td>\n",
       "      <td>8.00</td>\n",
       "    </tr>\n",
       "    <tr>\n",
       "      <th>2</th>\n",
       "      <td>Добавить блоки рекомендаций товаров на сайт интернет магазина, чтобы повысить конверсию и средний чек заказа</td>\n",
       "      <td>7.00</td>\n",
       "    </tr>\n",
       "    <tr>\n",
       "      <th>1</th>\n",
       "      <td>Запустить собственную службу доставки, что сократит срок доставки заказов</td>\n",
       "      <td>2.00</td>\n",
       "    </tr>\n",
       "    <tr>\n",
       "      <th>5</th>\n",
       "      <td>Добавить страницу отзывов клиентов о магазине, что позволит увеличить количество заказов</td>\n",
       "      <td>1.33</td>\n",
       "    </tr>\n",
       "    <tr>\n",
       "      <th>3</th>\n",
       "      <td>Изменить структура категорий, что увеличит конверсию, т.к. пользователи быстрее найдут нужный товар</td>\n",
       "      <td>1.12</td>\n",
       "    </tr>\n",
       "    <tr>\n",
       "      <th>4</th>\n",
       "      <td>Изменить цвет фона главной страницы, чтобы увеличить вовлеченность пользователей</td>\n",
       "      <td>1.00</td>\n",
       "    </tr>\n",
       "  </tbody>\n",
       "</table>\n",
       "</div>"
      ],
      "text/plain": [
       "                                                                                                     hypothesis  \\\n",
       "8                                                       Запустить акцию, дающую скидку на товар в день рождения   \n",
       "0            Добавить два новых канала привлечения трафика, что позволит привлекать на 30% больше пользователей   \n",
       "7              Добавить форму подписки на все основные страницы, чтобы собрать базу клиентов для email-рассылок   \n",
       "6          Показать на главной странице баннеры с актуальными акциями и распродажами, чтобы увеличить конверсию   \n",
       "2  Добавить блоки рекомендаций товаров на сайт интернет магазина, чтобы повысить конверсию и средний чек заказа   \n",
       "1                                     Запустить собственную службу доставки, что сократит срок доставки заказов   \n",
       "5                      Добавить страницу отзывов клиентов о магазине, что позволит увеличить количество заказов   \n",
       "3           Изменить структура категорий, что увеличит конверсию, т.к. пользователи быстрее найдут нужный товар   \n",
       "4                              Изменить цвет фона главной страницы, чтобы увеличить вовлеченность пользователей   \n",
       "\n",
       "    ICE  \n",
       "8 16.20  \n",
       "0 13.33  \n",
       "7 11.20  \n",
       "6  8.00  \n",
       "2  7.00  \n",
       "1  2.00  \n",
       "5  1.33  \n",
       "3  1.12  \n",
       "4  1.00  "
      ]
     },
     "metadata": {},
     "output_type": "display_data"
    }
   ],
   "source": [
    "data['ICE'] = data['impact'] * data['confidence']/data['efforts']\n",
    "data['ICE'] = data['ICE'].astype('float')\n",
    "display(data[['hypothesis','ICE']].sort_values(by='ICE', ascending=False))"
   ]
  },
  {
   "cell_type": "markdown",
   "metadata": {},
   "source": [
    "Применив фреймворк ICE мы получили три наиболее перспективные для изучения гипотезы:\n",
    "1) Запустить акцию, дающую скидку на товар в день рождения;\n",
    "2) Добавить два новых канала привлечения трафика, что позволит привлекать на 30% больше пользователей;\n",
    "3) Добавить форму подписки на все основные страницы, чтобы собрать базу клиентов для email-рассылок.\n",
    "    \n",
    "Фреймворк ICE приоритизирует гипотезы с учетом следующих параметров:    \n",
    "- Impact — насколько сильно изменение повлияет на пользователей, их опыт и удовлетворение от продукта;\n",
    "- Confidence — насколько вы уверены, что это изменение повлияет на пользователей именно так; \n",
    "- Efforts — сколько стоит протестировать эту гипотезу."
   ]
  },
  {
   "cell_type": "markdown",
   "metadata": {},
   "source": [
    "### Применим фреймворк RICE для приоритизации гипотез. Отсортируем их по убыванию приоритета."
   ]
  },
  {
   "cell_type": "code",
   "execution_count": 17,
   "metadata": {},
   "outputs": [
    {
     "data": {
      "text/html": [
       "<div>\n",
       "<style scoped>\n",
       "    .dataframe tbody tr th:only-of-type {\n",
       "        vertical-align: middle;\n",
       "    }\n",
       "\n",
       "    .dataframe tbody tr th {\n",
       "        vertical-align: top;\n",
       "    }\n",
       "\n",
       "    .dataframe thead th {\n",
       "        text-align: right;\n",
       "    }\n",
       "</style>\n",
       "<table border=\"1\" class=\"dataframe\">\n",
       "  <thead>\n",
       "    <tr style=\"text-align: right;\">\n",
       "      <th></th>\n",
       "      <th>hypothesis</th>\n",
       "      <th>RICE</th>\n",
       "    </tr>\n",
       "  </thead>\n",
       "  <tbody>\n",
       "    <tr>\n",
       "      <th>7</th>\n",
       "      <td>Добавить форму подписки на все основные страницы, чтобы собрать базу клиентов для email-рассылок</td>\n",
       "      <td>112.00</td>\n",
       "    </tr>\n",
       "    <tr>\n",
       "      <th>2</th>\n",
       "      <td>Добавить блоки рекомендаций товаров на сайт интернет магазина, чтобы повысить конверсию и средний чек заказа</td>\n",
       "      <td>56.00</td>\n",
       "    </tr>\n",
       "    <tr>\n",
       "      <th>0</th>\n",
       "      <td>Добавить два новых канала привлечения трафика, что позволит привлекать на 30% больше пользователей</td>\n",
       "      <td>40.00</td>\n",
       "    </tr>\n",
       "    <tr>\n",
       "      <th>6</th>\n",
       "      <td>Показать на главной странице баннеры с актуальными акциями и распродажами, чтобы увеличить конверсию</td>\n",
       "      <td>40.00</td>\n",
       "    </tr>\n",
       "    <tr>\n",
       "      <th>8</th>\n",
       "      <td>Запустить акцию, дающую скидку на товар в день рождения</td>\n",
       "      <td>16.20</td>\n",
       "    </tr>\n",
       "    <tr>\n",
       "      <th>3</th>\n",
       "      <td>Изменить структура категорий, что увеличит конверсию, т.к. пользователи быстрее найдут нужный товар</td>\n",
       "      <td>9.00</td>\n",
       "    </tr>\n",
       "    <tr>\n",
       "      <th>1</th>\n",
       "      <td>Запустить собственную службу доставки, что сократит срок доставки заказов</td>\n",
       "      <td>4.00</td>\n",
       "    </tr>\n",
       "    <tr>\n",
       "      <th>5</th>\n",
       "      <td>Добавить страницу отзывов клиентов о магазине, что позволит увеличить количество заказов</td>\n",
       "      <td>4.00</td>\n",
       "    </tr>\n",
       "    <tr>\n",
       "      <th>4</th>\n",
       "      <td>Изменить цвет фона главной страницы, чтобы увеличить вовлеченность пользователей</td>\n",
       "      <td>3.00</td>\n",
       "    </tr>\n",
       "  </tbody>\n",
       "</table>\n",
       "</div>"
      ],
      "text/plain": [
       "                                                                                                     hypothesis  \\\n",
       "7              Добавить форму подписки на все основные страницы, чтобы собрать базу клиентов для email-рассылок   \n",
       "2  Добавить блоки рекомендаций товаров на сайт интернет магазина, чтобы повысить конверсию и средний чек заказа   \n",
       "0            Добавить два новых канала привлечения трафика, что позволит привлекать на 30% больше пользователей   \n",
       "6          Показать на главной странице баннеры с актуальными акциями и распродажами, чтобы увеличить конверсию   \n",
       "8                                                       Запустить акцию, дающую скидку на товар в день рождения   \n",
       "3           Изменить структура категорий, что увеличит конверсию, т.к. пользователи быстрее найдут нужный товар   \n",
       "1                                     Запустить собственную службу доставки, что сократит срок доставки заказов   \n",
       "5                      Добавить страницу отзывов клиентов о магазине, что позволит увеличить количество заказов   \n",
       "4                              Изменить цвет фона главной страницы, чтобы увеличить вовлеченность пользователей   \n",
       "\n",
       "    RICE  \n",
       "7 112.00  \n",
       "2  56.00  \n",
       "0  40.00  \n",
       "6  40.00  \n",
       "8  16.20  \n",
       "3   9.00  \n",
       "1   4.00  \n",
       "5   4.00  \n",
       "4   3.00  "
      ]
     },
     "metadata": {},
     "output_type": "display_data"
    }
   ],
   "source": [
    "data['RICE'] = data['reach'] * data['impact'] * data['confidence']/data['efforts']\n",
    "data['RICE'] = data['RICE'].astype('float')\n",
    "display(data[['hypothesis','RICE']].sort_values(by='RICE', ascending=False))"
   ]
  },
  {
   "cell_type": "markdown",
   "metadata": {},
   "source": [
    "Применив фреймворк RICE мы получили три наиболее перспективные для изучения гипотезы:\n",
    "1) Добавить форму подписки на все основные страницы, чтобы собрать базу клиентов для email-рассылок;\n",
    "2) Добавить блоки рекомендаций товаров на сайт интернет магазина, чтобы повысить конверсию и средний чек заказа;\n",
    "3) Добавить два новых канала привлечения трафика, что позволит привлекать на 30% больше пользователей.\n",
    "    \n",
    "Фреймворк RICE приоритизирует гипотезы с учетом следующих параметров:    \n",
    "- Impact — насколько сильно изменение повлияет на пользователей, их опыт и удовлетворение от продукта;\n",
    "- Confidence — насколько вы уверены, что это изменение повлияет на пользователей именно так; \n",
    "- Efforts — сколько стоит протестировать эту гипотезу;\n",
    "- Reach — скольких пользователей затронет изменение, которое вы хотите внести."
   ]
  },
  {
   "cell_type": "markdown",
   "metadata": {},
   "source": [
    "### Отличия результатов приоритизации гипотез при применении RICE вместо ICE."
   ]
  },
  {
   "cell_type": "markdown",
   "metadata": {},
   "source": [
    "<div style=\"border:solid Blue 2px; padding: 20px\">\n",
    "\n",
    "**Вывод:**\n",
    "        \n",
    "В отличии от ICE, фреймворк RICE использует в качестве параметра также и охват количества пользователей, которых затронет предполагаемое изменение.\n",
    "\n",
    "Сравнение результатов показывает, что \"Запустить акцию, дающую скидку на товар в день рождения\" - потенциально выгодное изменение, но оно охватит сравнительно небольшую группу пользователей. Поэтому оценка ранга этого изменения с применением фреймворка RICE переместила эту гипотезу с первого места на середину списка.\n",
    "    \n",
    "Наиболее перспективными гипотезами, вошедшими в первую тройку при применении как одного, так и другого фреймворка, являются:\n",
    "    \n",
    "1) Добавить два новых канала привлечения трафика, что позволит привлекать на 30% больше пользователей;\n",
    "    \n",
    "2) Добавить форму подписки на все основные страницы, чтобы собрать базу клиентов для email-рассылок.\n",
    "</div>"
   ]
  },
  {
   "cell_type": "markdown",
   "metadata": {},
   "source": [
    "## Часть 2. Анализ A/B-теста"
   ]
  },
  {
   "cell_type": "markdown",
   "metadata": {},
   "source": [
    "Я провел A/B-тест и получил результаты, которые описаны в файлах orders.csv и visitors.csv"
   ]
  },
  {
   "cell_type": "code",
   "execution_count": 18,
   "metadata": {},
   "outputs": [
    {
     "data": {
      "text/html": [
       "<div>\n",
       "<style scoped>\n",
       "    .dataframe tbody tr th:only-of-type {\n",
       "        vertical-align: middle;\n",
       "    }\n",
       "\n",
       "    .dataframe tbody tr th {\n",
       "        vertical-align: top;\n",
       "    }\n",
       "\n",
       "    .dataframe thead th {\n",
       "        text-align: right;\n",
       "    }\n",
       "</style>\n",
       "<table border=\"1\" class=\"dataframe\">\n",
       "  <thead>\n",
       "    <tr style=\"text-align: right;\">\n",
       "      <th></th>\n",
       "      <th>orderId</th>\n",
       "      <th>userId</th>\n",
       "      <th>date</th>\n",
       "      <th>revenue</th>\n",
       "      <th>group</th>\n",
       "    </tr>\n",
       "  </thead>\n",
       "  <tbody>\n",
       "    <tr>\n",
       "      <th>0</th>\n",
       "      <td>3667963787</td>\n",
       "      <td>3312258926</td>\n",
       "      <td>2019-08-15</td>\n",
       "      <td>1650</td>\n",
       "      <td>B</td>\n",
       "    </tr>\n",
       "    <tr>\n",
       "      <th>1</th>\n",
       "      <td>2804400009</td>\n",
       "      <td>3642806036</td>\n",
       "      <td>2019-08-15</td>\n",
       "      <td>730</td>\n",
       "      <td>B</td>\n",
       "    </tr>\n",
       "    <tr>\n",
       "      <th>2</th>\n",
       "      <td>2961555356</td>\n",
       "      <td>4069496402</td>\n",
       "      <td>2019-08-15</td>\n",
       "      <td>400</td>\n",
       "      <td>A</td>\n",
       "    </tr>\n",
       "    <tr>\n",
       "      <th>3</th>\n",
       "      <td>3797467345</td>\n",
       "      <td>1196621759</td>\n",
       "      <td>2019-08-15</td>\n",
       "      <td>9759</td>\n",
       "      <td>B</td>\n",
       "    </tr>\n",
       "    <tr>\n",
       "      <th>4</th>\n",
       "      <td>2282983706</td>\n",
       "      <td>2322279887</td>\n",
       "      <td>2019-08-15</td>\n",
       "      <td>2308</td>\n",
       "      <td>B</td>\n",
       "    </tr>\n",
       "  </tbody>\n",
       "</table>\n",
       "</div>"
      ],
      "text/plain": [
       "      orderId      userId       date  revenue group\n",
       "0  3667963787  3312258926 2019-08-15     1650     B\n",
       "1  2804400009  3642806036 2019-08-15      730     B\n",
       "2  2961555356  4069496402 2019-08-15      400     A\n",
       "3  3797467345  1196621759 2019-08-15     9759     B\n",
       "4  2282983706  2322279887 2019-08-15     2308     B"
      ]
     },
     "metadata": {},
     "output_type": "display_data"
    },
    {
     "data": {
      "text/html": [
       "<div>\n",
       "<style scoped>\n",
       "    .dataframe tbody tr th:only-of-type {\n",
       "        vertical-align: middle;\n",
       "    }\n",
       "\n",
       "    .dataframe tbody tr th {\n",
       "        vertical-align: top;\n",
       "    }\n",
       "\n",
       "    .dataframe thead th {\n",
       "        text-align: right;\n",
       "    }\n",
       "</style>\n",
       "<table border=\"1\" class=\"dataframe\">\n",
       "  <thead>\n",
       "    <tr style=\"text-align: right;\">\n",
       "      <th></th>\n",
       "      <th>date</th>\n",
       "      <th>group</th>\n",
       "      <th>visitors</th>\n",
       "    </tr>\n",
       "  </thead>\n",
       "  <tbody>\n",
       "    <tr>\n",
       "      <th>0</th>\n",
       "      <td>2019-08-01</td>\n",
       "      <td>A</td>\n",
       "      <td>719</td>\n",
       "    </tr>\n",
       "    <tr>\n",
       "      <th>1</th>\n",
       "      <td>2019-08-02</td>\n",
       "      <td>A</td>\n",
       "      <td>619</td>\n",
       "    </tr>\n",
       "    <tr>\n",
       "      <th>2</th>\n",
       "      <td>2019-08-03</td>\n",
       "      <td>A</td>\n",
       "      <td>507</td>\n",
       "    </tr>\n",
       "    <tr>\n",
       "      <th>3</th>\n",
       "      <td>2019-08-04</td>\n",
       "      <td>A</td>\n",
       "      <td>717</td>\n",
       "    </tr>\n",
       "    <tr>\n",
       "      <th>4</th>\n",
       "      <td>2019-08-05</td>\n",
       "      <td>A</td>\n",
       "      <td>756</td>\n",
       "    </tr>\n",
       "  </tbody>\n",
       "</table>\n",
       "</div>"
      ],
      "text/plain": [
       "        date group  visitors\n",
       "0 2019-08-01     A       719\n",
       "1 2019-08-02     A       619\n",
       "2 2019-08-03     A       507\n",
       "3 2019-08-04     A       717\n",
       "4 2019-08-05     A       756"
      ]
     },
     "metadata": {},
     "output_type": "display_data"
    }
   ],
   "source": [
    "display(orders.head())\n",
    "display(visitors.head())"
   ]
  },
  {
   "cell_type": "markdown",
   "metadata": {},
   "source": [
    "Проведем анализ A/B-теста. Но сначала проведем дополнительную предобработку даннных."
   ]
  },
  {
   "cell_type": "markdown",
   "metadata": {},
   "source": [
    "### Предобработка данных для А/В-теста"
   ]
  },
  {
   "cell_type": "markdown",
   "metadata": {},
   "source": [
    "Посчитаем общее количество пользователей, принявших участие в тесте"
   ]
  },
  {
   "cell_type": "code",
   "execution_count": 19,
   "metadata": {},
   "outputs": [],
   "source": [
    "userId_unique_before = len(orders['userId'].unique())"
   ]
  },
  {
   "cell_type": "markdown",
   "metadata": {},
   "source": [
    "Проверим датасет на наличие пользователей, которые присутствуют одновременно и в группе А, и в группе Б."
   ]
  },
  {
   "cell_type": "code",
   "execution_count": 20,
   "metadata": {},
   "outputs": [
    {
     "data": {
      "text/plain": [
       "58"
      ]
     },
     "execution_count": 20,
     "metadata": {},
     "output_type": "execute_result"
    }
   ],
   "source": [
    "userId_A = orders['userId'].loc[orders['group']=='A'].unique()\n",
    "userId_B = orders['userId'].loc[orders['group']=='B'].unique()\n",
    "userId_A_B = np.intersect1d(userId_A,userId_B)\n",
    "len(userId_A_B)"
   ]
  },
  {
   "cell_type": "markdown",
   "metadata": {},
   "source": [
    "В нашем датасете оказалось 58 таких пользователей. Запомним userId этих в переменной userId_A_B."
   ]
  },
  {
   "cell_type": "markdown",
   "metadata": {},
   "source": [
    "Проверим датасет на наличие статистических выбросов и аномалий"
   ]
  },
  {
   "cell_type": "code",
   "execution_count": 21,
   "metadata": {},
   "outputs": [
    {
     "data": {
      "text/plain": [
       "count      1197.00\n",
       "mean       8348.01\n",
       "std       39191.13\n",
       "min          50.00\n",
       "25%        1220.00\n",
       "50%        2978.00\n",
       "75%        8290.00\n",
       "max     1294500.00\n",
       "Name: revenue, dtype: float64"
      ]
     },
     "execution_count": 21,
     "metadata": {},
     "output_type": "execute_result"
    }
   ],
   "source": [
    " orders['revenue'].describe()"
   ]
  },
  {
   "cell_type": "markdown",
   "metadata": {},
   "source": [
    "Максимальная сумма заказа отличается более чем на порядок от стоимости медианного заказа. Построим \"ящик с усами\" и посмотрим, сколько пользователей вышло за пределы статистической нормы."
   ]
  },
  {
   "cell_type": "code",
   "execution_count": 22,
   "metadata": {},
   "outputs": [
    {
     "data": {
      "image/png": "[encoded data removed]",
      "text/plain": [
       "<Figure size 1080x360 with 1 Axes>"
      ]
     },
     "metadata": {
      "needs_background": "light"
     },
     "output_type": "display_data"
    }
   ],
   "source": [
    "plt.figure(figsize=(15, 5))\n",
    "orders.loc[:,['revenue']].boxplot()\n",
    "plt.show()"
   ]
  },
  {
   "cell_type": "markdown",
   "metadata": {},
   "source": [
    "На графике видно, что два заказа сильно выбиваются от статистической нормы."
   ]
  },
  {
   "cell_type": "code",
   "execution_count": 23,
   "metadata": {},
   "outputs": [
    {
     "data": {
      "text/html": [
       "<div>\n",
       "<style scoped>\n",
       "    .dataframe tbody tr th:only-of-type {\n",
       "        vertical-align: middle;\n",
       "    }\n",
       "\n",
       "    .dataframe tbody tr th {\n",
       "        vertical-align: top;\n",
       "    }\n",
       "\n",
       "    .dataframe thead th {\n",
       "        text-align: right;\n",
       "    }\n",
       "</style>\n",
       "<table border=\"1\" class=\"dataframe\">\n",
       "  <thead>\n",
       "    <tr style=\"text-align: right;\">\n",
       "      <th></th>\n",
       "      <th>orderId</th>\n",
       "      <th>userId</th>\n",
       "      <th>date</th>\n",
       "      <th>revenue</th>\n",
       "      <th>group</th>\n",
       "    </tr>\n",
       "  </thead>\n",
       "  <tbody>\n",
       "    <tr>\n",
       "      <th>425</th>\n",
       "      <td>590470918</td>\n",
       "      <td>1920142716</td>\n",
       "      <td>2019-08-19</td>\n",
       "      <td>1294500</td>\n",
       "      <td>B</td>\n",
       "    </tr>\n",
       "    <tr>\n",
       "      <th>1196</th>\n",
       "      <td>3936777065</td>\n",
       "      <td>2108080724</td>\n",
       "      <td>2019-08-15</td>\n",
       "      <td>202740</td>\n",
       "      <td>B</td>\n",
       "    </tr>\n",
       "  </tbody>\n",
       "</table>\n",
       "</div>"
      ],
      "text/plain": [
       "         orderId      userId       date  revenue group\n",
       "425    590470918  1920142716 2019-08-19  1294500     B\n",
       "1196  3936777065  2108080724 2019-08-15   202740     B"
      ]
     },
     "metadata": {},
     "output_type": "display_data"
    }
   ],
   "source": [
    "display(orders.loc[orders['revenue']>200000])"
   ]
  },
  {
   "cell_type": "markdown",
   "metadata": {},
   "source": [
    "Запомним пользователей, совершивших заказы с аномально высокой стоимостью - запишем userId этих пользователей в переменную userId_MaxRevenue."
   ]
  },
  {
   "cell_type": "code",
   "execution_count": 24,
   "metadata": {},
   "outputs": [],
   "source": [
    "userId_MaxRevenue = orders['userId'].loc[orders['revenue']>200000]"
   ]
  },
  {
   "cell_type": "markdown",
   "metadata": {},
   "source": [
    "Посмотрим на активность пользователей. Оценим максимальное количесто заказов совершенное одним пользователем"
   ]
  },
  {
   "cell_type": "code",
   "execution_count": 25,
   "metadata": {},
   "outputs": [
    {
     "data": {
      "text/plain": [
       "orderId    11\n",
       "dtype: int64"
      ]
     },
     "execution_count": 25,
     "metadata": {},
     "output_type": "execute_result"
    }
   ],
   "source": [
    "orders.pivot_table(index='userId', values='orderId', aggfunc='count').max()"
   ]
  },
  {
   "cell_type": "code",
   "execution_count": 26,
   "metadata": {},
   "outputs": [
    {
     "data": {
      "image/png": "[encoded data removed]",
      "text/plain": [
       "<Figure size 720x216 with 1 Axes>"
      ]
     },
     "metadata": {
      "needs_background": "light"
     },
     "output_type": "display_data"
    }
   ],
   "source": [
    "orders.pivot_table(index='userId', values='orderId', aggfunc='count').plot(kind='hist',\n",
    "                           xticks=range(1, 11),\n",
    "                           bins=11,\n",
    "                           grid=True,\n",
    "                           rot=90,\n",
    "                           title='Распределение пользователей по количеству заказов',\n",
    "                           legend=True,\n",
    "                           figsize=(10, 3));\n",
    "plt.show()"
   ]
  },
  {
   "cell_type": "markdown",
   "metadata": {},
   "source": [
    "Как видно из графика, стандартное количество заказов, совершенных одним пользователем, не превышает 5. Запомним пользователей, проявлявших слишком высокую активность - запишем userId этих пользователей в переменную userId_MaxCountOrders."
   ]
  },
  {
   "cell_type": "code",
   "execution_count": 27,
   "metadata": {},
   "outputs": [],
   "source": [
    "userId_MaxCountOrders = orders.pivot_table(index='userId', values='orderId', aggfunc='count').query('orderId>5').index"
   ]
  },
  {
   "cell_type": "markdown",
   "metadata": {},
   "source": [
    "Исключим из датафрейма пользователей:\n",
    "- попавших в обе группы, А и В,\n",
    "\n",
    "Пользователей:\n",
    "- совершавшавших заказы с аномально всокой ценой,\n",
    "- совершавших аномально большое количество заказов,\n",
    "\n",
    "исключать пока не будем."
   ]
  },
  {
   "cell_type": "code",
   "execution_count": 28,
   "metadata": {},
   "outputs": [],
   "source": [
    "orders_len_before = len(orders)\n",
    "\n",
    "# Я решил последовательно исключить каждую группу:\n",
    "orders = orders.loc[((orders['userId'].isin(list(userId_A_B))!=True))]\n",
    "#orders = orders.loc[((orders['userId'].isin(list(userId_MaxRevenue))!=True))]\n",
    "#orders = orders.loc[((orders['userId'].isin(list(userId_MaxCountOrders))!=True))]\n",
    "\n",
    "orders_len_after = len(orders)\n",
    "userId_unique_after = len(orders['userId'].unique())"
   ]
  },
  {
   "cell_type": "markdown",
   "metadata": {},
   "source": [
    "Посмотрим, какой процент записей датафрейма мы потеряли в результате предобработки."
   ]
  },
  {
   "cell_type": "code",
   "execution_count": 29,
   "metadata": {},
   "outputs": [
    {
     "data": {
      "text/plain": [
       "15.1"
      ]
     },
     "execution_count": 29,
     "metadata": {},
     "output_type": "execute_result"
    }
   ],
   "source": [
    "round(100-100*orders_len_after/orders_len_before,1)"
   ]
  },
  {
   "cell_type": "markdown",
   "metadata": {},
   "source": [
    "Посмотрим, какой процент от общего количества пользователей в результате предобработки оказался выброшен из анализа."
   ]
  },
  {
   "cell_type": "code",
   "execution_count": 30,
   "metadata": {},
   "outputs": [
    {
     "data": {
      "text/plain": [
       "5.6"
      ]
     },
     "execution_count": 30,
     "metadata": {},
     "output_type": "execute_result"
    }
   ],
   "source": [
    "round(100-100*userId_unique_after/userId_unique_before,1)"
   ]
  },
  {
   "cell_type": "markdown",
   "metadata": {},
   "source": [
    "<div style=\"border:solid Blue 2px; padding: 20px\">\n",
    "\n",
    "**Вывод:**\n",
    "        \n",
    "В результате предобработки мы потеряли 15.1% записей в датафрейме. Это достаточно высокий процент потерь: он связан с исключением из датафрейма пользователей, попавших в обе группы (58 пользователей).\n",
    "    \n",
    "<s>Мы также исключили из датафрейма статистические выбросы и аномалии: чрезмерно активных пользователей и пользователей совершавших заказы с аномально большой стоимостью. Однако это не привело к большим потерям: этим фактором было вызвано только 0.02% потерь - из датафрейма были исключены данные по 6 пользователям.</s>\n",
    "    \n",
    "В датафрейме содержаться данные о пользователях, поведение которых можно отнести к выбросам и статистическим аномалиям - но исключать их мы пока не будем. На последнем этапе работы мы проведем сравнительный анализ - с учетом и без учета таких пользователей.\n",
    "    \n",
    "На итог мы потеряли информацию о 5.6%  пользователей - этот процент уже не выглядит  слишком критичным.\n",
    "    \n",
    "И это обоснованные потери: ведь если пользователь участвовал в обеих группах, то нельзя сказать, участие в какой из них повлияло на его поведение. Таких пользователей лучше исключить.\n",
    "</div>"
   ]
  },
  {
   "cell_type": "markdown",
   "metadata": {},
   "source": [
    "### Построим график кумулятивной выручки по группам"
   ]
  },
  {
   "cell_type": "code",
   "execution_count": 31,
   "metadata": {},
   "outputs": [
    {
     "data": {
      "image/png": "[encoded data removed]",
      "text/plain": [
       "<Figure size 1080x288 with 1 Axes>"
      ]
     },
     "metadata": {
      "needs_background": "light"
     },
     "output_type": "display_data"
    }
   ],
   "source": [
    "datesGroups = orders[['date', 'group']].drop_duplicates()\n",
    "\n",
    "ordersAggregated = datesGroups.apply(\n",
    "    lambda x: orders[\n",
    "        np.logical_and(\n",
    "            orders['date'] <= x['date'], orders['group'] == x['group']\n",
    "        )\n",
    "    ].agg(\n",
    "        {\n",
    "            'date': 'max',\n",
    "            'group': 'max',\n",
    "            'orderId': 'nunique',\n",
    "            'userId': 'nunique',\n",
    "            'revenue': 'sum',\n",
    "        }\n",
    "    ),\n",
    "    axis=1,\n",
    ").sort_values(by=['date', 'group'])\n",
    "\n",
    "visitorsAggregated = datesGroups.apply(\n",
    "    lambda x: visitors[\n",
    "        np.logical_and(\n",
    "            visitors['date'] <= x['date'], visitors['group'] == x['group']\n",
    "        )\n",
    "    ].agg({'date': 'max', 'group': 'max', 'visitors': 'sum'}),\n",
    "    axis=1,\n",
    ").sort_values(by=['date', 'group'])\n",
    "\n",
    "cumulativeData = ordersAggregated.merge(\n",
    "    visitorsAggregated, left_on=['date', 'group'], right_on=['date', 'group']\n",
    ")\n",
    "cumulativeData.columns = [\n",
    "    'date',\n",
    "    'group',\n",
    "    'orders',\n",
    "    'buyers',\n",
    "    'revenue',\n",
    "    'visitors',\n",
    "]\n",
    "\n",
    "cumulativeRevenueA = cumulativeData[cumulativeData['group']=='A'][['date','revenue', 'orders']]\n",
    "cumulativeRevenueB = cumulativeData[cumulativeData['group']=='B'][['date','revenue', 'orders']]\n",
    "plt.figure(figsize=(15, 4))\n",
    "plt.plot(cumulativeRevenueA['date'], cumulativeRevenueA['revenue'], label='A')\n",
    "plt.plot(cumulativeRevenueB['date'], cumulativeRevenueB['revenue'], label='B')\n",
    "plt.legend()\n",
    "plt.xticks(rotation=45)\n",
    "plt.title(\"График кумулятивной выручки по группам\")\n",
    "plt.ylabel(\"Объем кумулятивной выручки\")\n",
    "plt.xlabel(\"Дата\")\n",
    "plt.show()"
   ]
  },
  {
   "cell_type": "markdown",
   "metadata": {},
   "source": [
    "<div style=\"border:solid Blue 2px; padding: 20px\">\n",
    "\n",
    "**Вывод:**\n",
    "    \n",
    "Похоже, что группа  Б стабильно показывает более высокие показатели кумулятивной выручки, но превышение, хотя оно и есть - незначительное.\n",
    "\n",
    "17 августа заметен резкий подъем в группе Б - видимо, это следствие неисключенных нами выбросов и аномалий\n",
    "</div>"
   ]
  },
  {
   "cell_type": "markdown",
   "metadata": {},
   "source": [
    "### Построим график кумулятивного среднего чека по группам"
   ]
  },
  {
   "cell_type": "code",
   "execution_count": 32,
   "metadata": {},
   "outputs": [
    {
     "data": {
      "image/png": "[encoded data removed]",
      "text/plain": [
       "<Figure size 1080x288 with 1 Axes>"
      ]
     },
     "metadata": {
      "needs_background": "light"
     },
     "output_type": "display_data"
    }
   ],
   "source": [
    "plt.figure(figsize=(15, 4))\n",
    "plt.plot(cumulativeRevenueA['date'], cumulativeRevenueA['revenue']/cumulativeRevenueA['orders'], label='A')\n",
    "plt.plot(cumulativeRevenueB['date'], cumulativeRevenueB['revenue']/cumulativeRevenueB['orders'], label='B')\n",
    "plt.legend()\n",
    "plt.xticks(rotation=45)\n",
    "plt.title(\"График кумулятивного среднего чека по группам\")\n",
    "plt.ylabel(\"Средний чек\")\n",
    "plt.xlabel(\"Дата\")\n",
    "plt.show()"
   ]
  },
  {
   "cell_type": "markdown",
   "metadata": {},
   "source": [
    "<div style=\"border:solid Blue 2px; padding: 20px\">\n",
    "\n",
    "**Вывод:**\n",
    "\n",
    "Кумулятивный средний чек по группам показываетколебания в начале периода, но затем выравнивается. В отличие от объема выручки, удельный показатель среднего чека отражает, что в среднем пользователи группы А делали покупок на большую сумму, чем пользователи группы Б\n",
    "    \n",
    "Мы видим на графике, как 17 августа поменялся средний чек в группе Б, а затем наметилась тенденция  к выравниванию средней - видимо, в этот период в группе Б были совершены заказы на довольно крупную сумму, которая существенно повлияла на значение среднего чека\n",
    "</div>"
   ]
  },
  {
   "cell_type": "markdown",
   "metadata": {},
   "source": [
    "### Построим график относительного изменения кумулятивного среднего чека группы B к группе A"
   ]
  },
  {
   "cell_type": "code",
   "execution_count": 33,
   "metadata": {},
   "outputs": [
    {
     "data": {
      "image/png": "[encoded data removed]",
      "text/plain": [
       "<Figure size 1080x288 with 1 Axes>"
      ]
     },
     "metadata": {
      "needs_background": "light"
     },
     "output_type": "display_data"
    }
   ],
   "source": [
    "mergedCumulativeRevenue = cumulativeRevenueA.merge(cumulativeRevenueB, left_on='date', right_on='date', how='left', suffixes=['A', 'B'])\n",
    "plt.figure(figsize=(15, 4))\n",
    "plt.plot(mergedCumulativeRevenue['date'], (mergedCumulativeRevenue['revenueB']/mergedCumulativeRevenue['ordersB'])/(mergedCumulativeRevenue['revenueA']/mergedCumulativeRevenue['ordersA'])-1)\n",
    "\n",
    "# добавляем ось X\n",
    "plt.axhline(y=0, color='black', linestyle='--')\n",
    "plt.xticks(rotation=45)\n",
    "plt.title(\"График относительного изменения кумулятивного среднего чека группы B к группе A\")\n",
    "plt.ylabel(\"Отношение кумулятивного среднего чека В к А\")\n",
    "plt.xlabel(\"Дата\")\n",
    "plt.show()"
   ]
  },
  {
   "cell_type": "markdown",
   "metadata": {},
   "source": [
    "<div style=\"border:solid Blue 2px; padding: 20px\">\n",
    "\n",
    "**Вывод:**\n",
    "    \n",
    "Средний чек пользователей группы Б существенно превышает аналогичный показатель группы А. Однако неизвестно, не является ли это следствием единичных аномально крупных покупок, выявленных нами на предыдущем этапе.\n",
    "</div>"
   ]
  },
  {
   "cell_type": "markdown",
   "metadata": {},
   "source": [
    "### Построим график кумулятивного среднего количества заказов на посетителя по группам"
   ]
  },
  {
   "cell_type": "code",
   "execution_count": 34,
   "metadata": {},
   "outputs": [
    {
     "data": {
      "image/png": "[encoded data removed]",
      "text/plain": [
       "<Figure size 1080x288 with 1 Axes>"
      ]
     },
     "metadata": {
      "needs_background": "light"
     },
     "output_type": "display_data"
    }
   ],
   "source": [
    "# считаем кумулятивное среднее количество заказов на посетителя\n",
    "cumulativeData['conversion'] = cumulativeData['orders']/cumulativeData['visitors']\n",
    "\n",
    "# отделяем данные по группе A\n",
    "cumulativeDataA = cumulativeData[cumulativeData['group']=='A']\n",
    "# отделяем данные по группе B\n",
    "cumulativeDataB = cumulativeData[cumulativeData['group']=='B']\n",
    "\n",
    "# строим графики\n",
    "plt.figure(figsize=(15, 4))\n",
    "plt.plot(cumulativeDataA['date'], cumulativeDataA['conversion'], label='A')\n",
    "plt.plot(cumulativeDataB['date'], cumulativeDataB['conversion'], label='B')\n",
    "plt.legend()\n",
    "plt.xticks(rotation=45)\n",
    "plt.title(\"График кумулятивного среднего количества заказов на посетителя по группам\")\n",
    "plt.ylabel(\"Среднее количества заказов на посетителя\")\n",
    "plt.xlabel(\"Дата\")\n",
    "plt.show()"
   ]
  },
  {
   "cell_type": "markdown",
   "metadata": {},
   "source": [
    "<div style=\"border:solid Blue 2px; padding: 20px\">\n",
    "\n",
    "**Вывод:** \n",
    "    \n",
    "Кумулятивное среднее количество заказов на посетителя в группе Б превышает значение аналогичного показателя группы А\n",
    "</div>"
   ]
  },
  {
   "cell_type": "markdown",
   "metadata": {},
   "source": [
    "### Построим график относительного изменения кумулятивного среднего количества заказов на посетителя группы B к группе A"
   ]
  },
  {
   "cell_type": "code",
   "execution_count": 35,
   "metadata": {},
   "outputs": [
    {
     "data": {
      "image/png": "[encoded data removed]",
      "text/plain": [
       "<Figure size 1080x288 with 1 Axes>"
      ]
     },
     "metadata": {
      "needs_background": "light"
     },
     "output_type": "display_data"
    }
   ],
   "source": [
    "mergedCumulativeConversions = cumulativeDataA[['date','conversion']].merge(cumulativeDataB[['date','conversion']], left_on='date', right_on='date', how='left', suffixes=['A', 'B'])\n",
    "plt.figure(figsize=(15, 4))\n",
    "plt.plot(mergedCumulativeConversions['date'], mergedCumulativeConversions['conversionB']/mergedCumulativeConversions['conversionA']-1,  label=\"Относительный прирост среднего количества заказов на посетителя группы B относительно группы A\")\n",
    "plt.legend()\n",
    "\n",
    "plt.axhline(y=0, color='black', linestyle='--')\n",
    "plt.axhline(y=0.21, color='grey', linestyle='--')\n",
    "plt.xticks(rotation=45)\n",
    "plt.title(\"График относительного изменения кумулятивного среднего количества заказов на посетителя группы B к группе A\")\n",
    "plt.ylabel(\"Отношение среднего количества заказов на посетителя В к А\")\n",
    "plt.xlabel(\"Дата\")\n",
    "plt.show()"
   ]
  },
  {
   "cell_type": "markdown",
   "metadata": {},
   "source": [
    "<div style=\"border:solid Blue 2px; padding: 20px\">\n",
    "\n",
    "**Вывод:**\n",
    "    \n",
    "На графике мы видим, что относительный прирост среднего количества заказов на посетителя в группе Б превышал аналогичный показатель группы А на примерно на 15 (в моменте - на 20) процентов\n",
    "</div>"
   ]
  },
  {
   "cell_type": "markdown",
   "metadata": {},
   "source": [
    "### Построим график количества заказов по пользователям"
   ]
  },
  {
   "cell_type": "code",
   "execution_count": 36,
   "metadata": {},
   "outputs": [],
   "source": [
    "ordersByUsers = (\n",
    "    orders.groupby('userId', as_index=False)\n",
    "    .agg({'orderId': 'nunique'})\n",
    ")\n",
    "ordersByUsers.columns = ['userId', 'orders']"
   ]
  },
  {
   "cell_type": "code",
   "execution_count": 37,
   "metadata": {},
   "outputs": [
    {
     "data": {
      "image/png": "[encoded data removed]",
      "text/plain": [
       "<Figure size 1080x288 with 1 Axes>"
      ]
     },
     "metadata": {
      "needs_background": "light"
     },
     "output_type": "display_data"
    }
   ],
   "source": [
    "# Построим гистограмму распределения числа заказов по пользователям\n",
    "plt.figure(figsize=(15, 4))\n",
    "plt.hist(ordersByUsers['orders'])\n",
    "plt.title(\"Гистограмма количества заказов по пользователям\")\n",
    "plt.ylabel(\"Количество пользователей\")\n",
    "plt.xlabel(\"Количество заказов\")\n",
    "plt.show()"
   ]
  },
  {
   "cell_type": "code",
   "execution_count": 38,
   "metadata": {},
   "outputs": [
    {
     "data": {
      "image/png": "[encoded data removed]",
      "text/plain": [
       "<Figure size 1080x288 with 1 Axes>"
      ]
     },
     "metadata": {
      "needs_background": "light"
     },
     "output_type": "display_data"
    }
   ],
   "source": [
    "# Построим точечный график количества заказов по пользователям\n",
    "x_values = pd.Series(range(0, len(ordersByUsers)))\n",
    "plt.figure(figsize=(15, 4))\n",
    "plt.scatter(x_values, ordersByUsers['orders'])\n",
    "plt.title(\"Точечный график количества заказов по пользователям\")\n",
    "plt.ylabel(\"Количество заказов\")\n",
    "plt.xlabel(\"Пользователи\")\n",
    "plt.show()"
   ]
  },
  {
   "cell_type": "markdown",
   "metadata": {},
   "source": [
    "<div style=\"border:solid Blue 2px; padding: 20px\">\n",
    "\n",
    "**Вывод:**\n",
    "    \n",
    "Из графика видно, что в среднем один пользователь делал один заказ, за редким исключением - два или три заказа.\n",
    "</div>"
   ]
  },
  {
   "cell_type": "markdown",
   "metadata": {},
   "source": [
    "### Посчитаем 95-й и 99-й перцентили количества заказов на пользователя"
   ]
  },
  {
   "cell_type": "code",
   "execution_count": 39,
   "metadata": {},
   "outputs": [
    {
     "data": {
      "text/plain": [
       "array([1., 2.])"
      ]
     },
     "execution_count": 39,
     "metadata": {},
     "output_type": "execute_result"
    }
   ],
   "source": [
    "np.percentile(ordersByUsers['orders'], [95, 99])"
   ]
  },
  {
   "cell_type": "markdown",
   "metadata": {},
   "source": [
    "<div style=\"border:solid Blue 2px; padding: 20px\">\n",
    "\n",
    "**Вывод:**    \n",
    "\n",
    "Пользователи, которые делали три заказа составляют менее 1% от общего числа. Граница 99 перцентиля составляет 2 заказа на пользователя.\n",
    "</div>"
   ]
  },
  {
   "cell_type": "markdown",
   "metadata": {},
   "source": [
    "### Построим график стоимостей заказов"
   ]
  },
  {
   "cell_type": "code",
   "execution_count": 40,
   "metadata": {},
   "outputs": [
    {
     "data": {
      "image/png": "[encoded data removed]",
      "text/plain": [
       "<Figure size 1080x288 with 1 Axes>"
      ]
     },
     "metadata": {
      "needs_background": "light"
     },
     "output_type": "display_data"
    }
   ],
   "source": [
    "# Построим гистограмму распределения выручекс заказов по пользователям методом hist()\n",
    "plt.figure(figsize=(15, 4))\n",
    "plt.hist(orders['revenue'])\n",
    "plt.title(\"Гистограмма стоимостей заказов по пользователям\")\n",
    "plt.ylabel(\"Количество пользователей\")\n",
    "plt.xlabel(\"Стоимость заказов\")\n",
    "plt.show()"
   ]
  },
  {
   "cell_type": "code",
   "execution_count": 41,
   "metadata": {},
   "outputs": [
    {
     "data": {
      "image/png": "[encoded data removed]",
      "text/plain": [
       "<Figure size 1080x288 with 1 Axes>"
      ]
     },
     "metadata": {
      "needs_background": "light"
     },
     "output_type": "display_data"
    }
   ],
   "source": [
    "# Построим точечный график стоимостей заказов\n",
    "x_values = pd.Series(range(0, len(orders['revenue'])))\n",
    "plt.figure(figsize=(15, 4))\n",
    "plt.scatter(x_values, orders['revenue'])\n",
    "plt.title(\"Точечный график стоимостей заказов по пользователям\")\n",
    "plt.ylabel(\"Стоимость заказа\")\n",
    "plt.xlabel(\"Пользователи\")\n",
    "plt.show()"
   ]
  },
  {
   "cell_type": "markdown",
   "metadata": {},
   "source": [
    "<div style=\"border:solid Blue 2px; padding: 20px\">\n",
    "\n",
    "**Вывод:**\n",
    "    \n",
    "В основном, стоимость заказа не превышает 20 000, даже несколько ниже этой цифры. На графике видно два резко выбивающихся из общей картины выброса. Мы уже выявили их раньше, на этапе предобработки данных - на графике мы обнаружили их с помощью визуализации.\n",
    "</div>"
   ]
  },
  {
   "cell_type": "markdown",
   "metadata": {},
   "source": [
    "### Посчитаем 95-й и 99-й перцентили стоимости заказов"
   ]
  },
  {
   "cell_type": "code",
   "execution_count": 42,
   "metadata": {},
   "outputs": [
    {
     "data": {
      "text/plain": [
       "array([26785., 53904.])"
      ]
     },
     "execution_count": 42,
     "metadata": {},
     "output_type": "execute_result"
    }
   ],
   "source": [
    "np.percentile(orders['revenue'], [95, 99])"
   ]
  },
  {
   "cell_type": "markdown",
   "metadata": {},
   "source": [
    "<div style=\"border:solid Blue 2px; padding: 20px\">\n",
    "\n",
    "**Вывод:**\n",
    "    \n",
    "99% всех заказов укладываются в стоимость 53 904. Заказы выше этой суммы измеряются единицами и составляют менее 1 % от общего числа заказов.\n",
    "</div>"
   ]
  },
  {
   "cell_type": "markdown",
   "metadata": {},
   "source": [
    "### Посчитаем статистическую значимость различий в среднем количестве заказов на посетителя между группами по «сырым» данным"
   ]
  },
  {
   "cell_type": "markdown",
   "metadata": {},
   "source": [
    "Посчитаем статистическую значимость различий в среднем числе заказов на пользователя и среднем чеке между группами по «сырым» данным — без удаления аномальных пользователей.\n",
    "\n",
    "Сформулируем гипотезы. Нулевая: различий в среднем количестве заказов между группами нет. Альтернативная: различия в среднем между группами есть.\n",
    "\n",
    "Начнём с подготовки данных."
   ]
  },
  {
   "cell_type": "code",
   "execution_count": 43,
   "metadata": {},
   "outputs": [],
   "source": [
    "visitorsADaily = visitors[visitors['group'] == 'A'][['date', 'visitors']]\n",
    "visitorsADaily.columns = ['date', 'visitorsPerDateA']\n",
    "\n",
    "visitorsACummulative = visitorsADaily.apply(\n",
    "    lambda x: visitorsADaily[visitorsADaily['date'] <= x['date']].agg(\n",
    "        {'date': 'max', 'visitorsPerDateA': 'sum'}\n",
    "    ),\n",
    "    axis=1,\n",
    ")\n",
    "visitorsACummulative.columns = ['date', 'visitorsCummulativeA']\n",
    "\n",
    "visitorsBDaily = visitors[visitors['group'] == 'B'][['date', 'visitors']]\n",
    "visitorsBDaily.columns = ['date', 'visitorsPerDateB']\n",
    "\n",
    "visitorsBCummulative = visitorsBDaily.apply(\n",
    "    lambda x: visitorsBDaily[visitorsBDaily['date'] <= x['date']].agg(\n",
    "        {'date': 'max', 'visitorsPerDateB': 'sum'}\n",
    "    ),\n",
    "    axis=1,\n",
    ")\n",
    "visitorsBCummulative.columns = ['date', 'visitorsCummulativeB']\n",
    "\n",
    "ordersADaily = (\n",
    "    orders[orders['group'] == 'A'][['date', 'orderId', 'userId', 'revenue']]\n",
    "    .groupby('date', as_index=False)\n",
    "    .agg({'orderId': pd.Series.nunique, 'revenue': 'sum'})\n",
    ")\n",
    "ordersADaily.columns = ['date', 'ordersPerDateA', 'revenuePerDateA']\n",
    "\n",
    "ordersACummulative = ordersADaily.apply(\n",
    "    lambda x: ordersADaily[ordersADaily['date'] <= x['date']].agg(\n",
    "        {'date': 'max', 'ordersPerDateA': 'sum', 'revenuePerDateA': 'sum'}\n",
    "    ),\n",
    "    axis=1,\n",
    ").sort_values(by=['date'])\n",
    "ordersACummulative.columns = [\n",
    "    'date',\n",
    "    'ordersCummulativeA',\n",
    "    'revenueCummulativeA',\n",
    "]\n",
    "\n",
    "ordersBDaily = (\n",
    "    orders[orders['group'] == 'B'][['date', 'orderId', 'userId', 'revenue']]\n",
    "    .groupby('date', as_index=False)\n",
    "    .agg({'orderId': pd.Series.nunique, 'revenue': 'sum'})\n",
    ")\n",
    "ordersBDaily.columns = ['date', 'ordersPerDateB', 'revenuePerDateB']\n",
    "\n",
    "ordersBCummulative = ordersBDaily.apply(\n",
    "    lambda x: ordersBDaily[ordersBDaily['date'] <= x['date']].agg(\n",
    "        {'date': 'max', 'ordersPerDateB': 'sum', 'revenuePerDateB': 'sum'}\n",
    "    ),\n",
    "    axis=1,\n",
    ").sort_values(by=['date'])\n",
    "ordersBCummulative.columns = [\n",
    "    'date',\n",
    "    'ordersCummulativeB',\n",
    "    'revenueCummulativeB',\n",
    "]\n",
    "\n",
    "data = (\n",
    "    ordersADaily.merge(\n",
    "        ordersBDaily, left_on='date', right_on='date', how='left'\n",
    "    )\n",
    "    .merge(ordersACummulative, left_on='date', right_on='date', how='left')\n",
    "    .merge(ordersBCummulative, left_on='date', right_on='date', how='left')\n",
    "    .merge(visitorsADaily, left_on='date', right_on='date', how='left')\n",
    "    .merge(visitorsBDaily, left_on='date', right_on='date', how='left')\n",
    "    .merge(visitorsACummulative, left_on='date', right_on='date', how='left')\n",
    "    .merge(visitorsBCummulative, left_on='date', right_on='date', how='left')\n",
    ")\n",
    "\n",
    "ordersByUsersA = (\n",
    "    orders[orders['group'] == 'A']\n",
    "    .groupby('userId', as_index=False)\n",
    "    .agg({'orderId': pd.Series.nunique})\n",
    ")\n",
    "ordersByUsersA.columns = ['userId', 'orders']\n",
    "\n",
    "ordersByUsersB = (\n",
    "    orders[orders['group'] == 'B']\n",
    "    .groupby('userId', as_index=False)\n",
    "    .agg({'orderId': pd.Series.nunique})\n",
    ")\n",
    "ordersByUsersB.columns = ['userId', 'orders']\n",
    "\n",
    "sampleA = pd.concat(\n",
    "    [\n",
    "        ordersByUsersA['orders'],\n",
    "        pd.Series(\n",
    "            0,\n",
    "            index=np.arange(\n",
    "                data['visitorsPerDateA'].sum() - len(ordersByUsersA['orders'])\n",
    "            ),\n",
    "            name='orders',\n",
    "        ),\n",
    "    ],\n",
    "    axis=0,\n",
    ")\n",
    "\n",
    "sampleB = pd.concat(\n",
    "    [\n",
    "        ordersByUsersB['orders'],\n",
    "        pd.Series(\n",
    "            0,\n",
    "            index=np.arange(\n",
    "                data['visitorsPerDateB'].sum() - len(ordersByUsersB['orders'])\n",
    "            ),\n",
    "            name='orders',\n",
    "        ),\n",
    "    ],\n",
    "    axis=0,\n",
    ")\n"
   ]
  },
  {
   "cell_type": "code",
   "execution_count": 44,
   "metadata": {},
   "outputs": [
    {
     "name": "stdout",
     "output_type": "stream",
     "text": [
      "0.01102\n"
     ]
    }
   ],
   "source": [
    "print(\"{0:.5f}\".format(stats.mannwhitneyu(sampleA, sampleB)[1]))"
   ]
  },
  {
   "cell_type": "markdown",
   "metadata": {},
   "source": [
    "<div style=\"border:solid Blue 2px; padding: 20px\">\n",
    "\n",
    "**Вывод:** \n",
    "    \n",
    "P-value = 0.01102 меньше 0.05. Значит, нулевую гипотезу о том, что статистически значимых различий в среднем числе заказов между группами нет, отвергаем в пользу альтернативной гипотезы - среднее число заказов на пользователя между группами различается\n",
    "</div>"
   ]
  },
  {
   "cell_type": "code",
   "execution_count": 45,
   "metadata": {},
   "outputs": [
    {
     "name": "stdout",
     "output_type": "stream",
     "text": [
      "0.160\n"
     ]
    }
   ],
   "source": [
    "print(\"{0:.3f}\".format((data['ordersPerDateB'].sum()/data['visitorsPerDateB'].sum())/(data['ordersPerDateA'].sum()/data['visitorsPerDateA'].sum())-1))"
   ]
  },
  {
   "cell_type": "markdown",
   "metadata": {},
   "source": [
    "Количество заказов на пользователя в группе Б на 16% превышает аналогичный показатель группы А"
   ]
  },
  {
   "cell_type": "markdown",
   "metadata": {},
   "source": [
    "### Посчитаем статистическую значимость различий в среднем чеке заказа между группами по «сырым» данным"
   ]
  },
  {
   "cell_type": "code",
   "execution_count": 46,
   "metadata": {},
   "outputs": [
    {
     "name": "stdout",
     "output_type": "stream",
     "text": [
      "0.829\n"
     ]
    }
   ],
   "source": [
    "print('{0:.3f}'.format(stats.mannwhitneyu(orders[orders['group']=='A']['revenue'], orders[orders['group']=='B']['revenue'])[1]))"
   ]
  },
  {
   "cell_type": "markdown",
   "metadata": {},
   "source": [
    "<div style=\"border:solid Blue 2px; padding: 20px\">\n",
    "\n",
    "**Вывод:** \n",
    "    \n",
    "P-value = 0.829 и значительно больше 0.05. Значит, причин отвергать нулевую гипотезу и считать, что в среднем чеке есть различия, нет.\n",
    "</div>"
   ]
  },
  {
   "cell_type": "code",
   "execution_count": 47,
   "metadata": {},
   "outputs": [
    {
     "name": "stdout",
     "output_type": "stream",
     "text": [
      "0.287\n"
     ]
    }
   ],
   "source": [
    "print('{0:.3f}'.format(orders[orders['group']=='B']['revenue'].mean()/orders[orders['group']=='A']['revenue'].mean()-1))"
   ]
  },
  {
   "cell_type": "markdown",
   "metadata": {},
   "source": [
    "Действительно, различия в среднем чеке между группами составляют 28.7%"
   ]
  },
  {
   "cell_type": "markdown",
   "metadata": {},
   "source": [
    "### Посчитаем статистическую значимость различий в среднем количестве заказов на посетителя между группами по «очищенным» данным"
   ]
  },
  {
   "cell_type": "markdown",
   "metadata": {},
   "source": [
    "Примем за аномальных пользователей тех, кто совершил от 3 заказов или совершил заказ дороже 53 904 рублей. "
   ]
  },
  {
   "cell_type": "code",
   "execution_count": 48,
   "metadata": {},
   "outputs": [
    {
     "name": "stdout",
     "output_type": "stream",
     "text": [
      "16\n"
     ]
    }
   ],
   "source": [
    "usersWithManyOrders = pd.concat(\n",
    "    [\n",
    "        ordersByUsersA[ordersByUsersA['orders'] > np.percentile(ordersByUsers['orders'], [95, 99])[1]]['userId'],\n",
    "        ordersByUsersB[ordersByUsersB['orders'] > np.percentile(ordersByUsers['orders'], [95, 99])[1]]['userId'],\n",
    "    ],\n",
    "    axis=0,\n",
    ")\n",
    "usersWithExpensiveOrders = orders[orders['revenue'] > np.percentile(orders['revenue'], [95, 99])[1]]['userId']\n",
    "abnormalUsers = (\n",
    "    pd.concat([usersWithManyOrders, usersWithExpensiveOrders], axis=0)\n",
    "    .drop_duplicates()\n",
    "    .sort_values()\n",
    ")\n",
    "print(abnormalUsers.shape[0]) "
   ]
  },
  {
   "cell_type": "markdown",
   "metadata": {},
   "source": [
    "16 пользователей буду исключены из дальнейшего анализа. Посчитаем статистическую значимость различий в среднем количестве заказов между группами теста по очищенным данным. Сначала подготовим выборки количества заказов по пользователям по группам теста:"
   ]
  },
  {
   "cell_type": "code",
   "execution_count": 49,
   "metadata": {},
   "outputs": [],
   "source": [
    "sampleAFiltered = pd.concat(\n",
    "    [\n",
    "        ordersByUsersA[\n",
    "            np.logical_not(ordersByUsersA['userId'].isin(abnormalUsers))\n",
    "        ]['orders'],\n",
    "        pd.Series(\n",
    "            0,\n",
    "            index=np.arange(\n",
    "                data['visitorsPerDateA'].sum() - len(ordersByUsersA['orders'])\n",
    "            ),\n",
    "            name='orders',\n",
    "        ),\n",
    "    ],\n",
    "    axis=0,\n",
    ")\n",
    "\n",
    "sampleBFiltered = pd.concat(\n",
    "    [\n",
    "        ordersByUsersB[\n",
    "            np.logical_not(ordersByUsersB['userId'].isin(abnormalUsers))\n",
    "        ]['orders'],\n",
    "        pd.Series(\n",
    "            0,\n",
    "            index=np.arange(\n",
    "                data['visitorsPerDateB'].sum() - len(ordersByUsersB['orders'])\n",
    "            ),\n",
    "            name='orders',\n",
    "        ),\n",
    "    ],\n",
    "    axis=0,\n",
    ") "
   ]
  },
  {
   "cell_type": "code",
   "execution_count": 50,
   "metadata": {},
   "outputs": [
    {
     "name": "stdout",
     "output_type": "stream",
     "text": [
      "0.007\n"
     ]
    }
   ],
   "source": [
    "print('{0:.3f}'.format(stats.mannwhitneyu(sampleAFiltered, sampleBFiltered)[1]))"
   ]
  },
  {
   "cell_type": "markdown",
   "metadata": {},
   "source": [
    "<div style=\"border:solid Blue 2px; padding: 20px\">\n",
    "\n",
    "**Вывод:** \n",
    "    \n",
    "P-value = 0.007 по прежнему меньше 0.05. Значит, наш предыдущий вывод остается без изменений: нулевую гипотезу о том, что статистически значимых различий в среднем числе заказов между группами нет, отвергаем в пользу альтернативной гипотезы - среднее число заказов на пользователя между группами различается.\n",
    "    \n",
    "Значение p-value изменилось на очищенных данных в меньшую сторону - этопозволяет принять данный вывод с большей уверенностью.\n",
    "</div>"
   ]
  },
  {
   "cell_type": "code",
   "execution_count": 51,
   "metadata": {},
   "outputs": [
    {
     "name": "stdout",
     "output_type": "stream",
     "text": [
      "0.189\n"
     ]
    }
   ],
   "source": [
    "print('{0:.3f}'.format(sampleBFiltered.mean()/sampleAFiltered.mean()-1))"
   ]
  },
  {
   "cell_type": "markdown",
   "metadata": {},
   "source": [
    "Количество заказов на пользователя в группе Б на 18.9% превышает аналогичный показатель группы А (по очищенным данным)"
   ]
  },
  {
   "cell_type": "markdown",
   "metadata": {},
   "source": [
    "### Посчитаем статистическую значимость различий в среднем чеке заказа между группами по «очищенным» данным"
   ]
  },
  {
   "cell_type": "code",
   "execution_count": 52,
   "metadata": {},
   "outputs": [
    {
     "name": "stdout",
     "output_type": "stream",
     "text": [
      "0.788\n"
     ]
    }
   ],
   "source": [
    "print(\n",
    "    '{0:.3f}'.format(\n",
    "        stats.mannwhitneyu(\n",
    "            orders[\n",
    "                np.logical_and(\n",
    "                    orders['group'] == 'A',\n",
    "                    np.logical_not(orders['userId'].isin(abnormalUsers)),\n",
    "                )\n",
    "            ]['revenue'],\n",
    "            orders[\n",
    "                np.logical_and(\n",
    "                    orders['group'] == 'B',\n",
    "                    np.logical_not(orders['userId'].isin(abnormalUsers)),\n",
    "                )\n",
    "            ]['revenue'],\n",
    "        )[1]\n",
    "    )\n",
    ")"
   ]
  },
  {
   "cell_type": "markdown",
   "metadata": {},
   "source": [
    "<div style=\"border:solid Blue 2px; padding: 20px\">\n",
    "\n",
    "**Вывод:** \n",
    "\n",
    "Аналогично и по выводу о различиях в среднем чеке - первоначальный вывод сохраняется.\n",
    "P-value = 0.788 и значительно больше 0.05. Значит, причин отвергать нулевую гипотезу и считать, что в среднем чеке есть различия, нет.\n",
    "</div>"
   ]
  },
  {
   "cell_type": "code",
   "execution_count": 54,
   "metadata": {},
   "outputs": [
    {
     "name": "stdout",
     "output_type": "stream",
     "text": [
      "0.033\n"
     ]
    }
   ],
   "source": [
    "print(\n",
    "    '{0:.3f}'.format(\n",
    "        \n",
    "            orders[\n",
    "                np.logical_and(\n",
    "                    orders['group'] == 'A',\n",
    "                    np.logical_not(orders['userId'].isin(abnormalUsers)),\n",
    "                )\n",
    "            ]['revenue'].mean() /\n",
    "            orders[\n",
    "                np.logical_and(\n",
    "                    orders['group'] == 'B',\n",
    "                    np.logical_not(orders['userId'].isin(abnormalUsers)),\n",
    "                )\n",
    "            ]['revenue'].mean()-1\n",
    "    )\n",
    ")"
   ]
  },
  {
   "cell_type": "markdown",
   "metadata": {},
   "source": [
    "Действительно, различия в среднем чеке между группами не превышают 3 процентов (по очищенным данным)."
   ]
  },
  {
   "cell_type": "markdown",
   "metadata": {},
   "source": [
    "## Решение по результатам теста"
   ]
  },
  {
   "cell_type": "markdown",
   "metadata": {},
   "source": [
    "По результатм теста можно принять одно из возможных вариантов решений:\n",
    "1. Остановить тест, зафиксировать победу одной из групп.\n",
    "2. Остановить тест, зафиксировать отсутствие различий между группами.\n",
    "3. Продолжить тест.\n",
    "\n",
    "Сравнение двух групп показало, что в группе Б количество заказов в расчете на одного пользователя первышает аналогичный показатель группы А. В то же время, средний чек по группам одинаков. Таким образом, можно зафиксировать победу группы Б - следовательно, необходимость в продолжении теста отсутствует."
   ]
  }
 ],
 "metadata": {
  "ExecuteTimeLog": [
   {
    "duration": 1423,
    "start_time": "2023-04-21T13:31:23.281Z"
   },
   {
    "duration": 4,
    "start_time": "2023-04-21T13:31:24.706Z"
   },
   {
    "duration": 30,
    "start_time": "2023-04-21T13:31:24.712Z"
   },
   {
    "duration": 10,
    "start_time": "2023-04-21T13:31:24.745Z"
   },
   {
    "duration": 226,
    "start_time": "2023-04-21T13:31:24.757Z"
   },
   {
    "duration": 59,
    "start_time": "2023-04-21T13:31:24.985Z"
   },
   {
    "duration": 5,
    "start_time": "2023-04-21T13:31:25.046Z"
   },
   {
    "duration": 76,
    "start_time": "2023-04-21T13:31:25.053Z"
   },
   {
    "duration": 4,
    "start_time": "2023-04-21T13:31:25.140Z"
   },
   {
    "duration": 34,
    "start_time": "2023-04-21T13:31:25.147Z"
   },
   {
    "duration": 39,
    "start_time": "2023-04-21T13:31:25.183Z"
   },
   {
    "duration": 33,
    "start_time": "2023-04-21T13:31:25.224Z"
   },
   {
    "duration": 46,
    "start_time": "2023-04-24T13:57:23.571Z"
   },
   {
    "duration": 1272,
    "start_time": "2023-04-24T13:58:54.212Z"
   },
   {
    "duration": 3,
    "start_time": "2023-04-24T13:58:55.486Z"
   },
   {
    "duration": 12,
    "start_time": "2023-04-24T13:58:55.490Z"
   },
   {
    "duration": 25,
    "start_time": "2023-04-24T13:58:55.504Z"
   },
   {
    "duration": 191,
    "start_time": "2023-04-24T13:58:55.530Z"
   },
   {
    "duration": 32,
    "start_time": "2023-04-24T13:58:55.723Z"
   },
   {
    "duration": 3,
    "start_time": "2023-04-24T13:58:55.757Z"
   },
   {
    "duration": 70,
    "start_time": "2023-04-24T13:58:55.762Z"
   },
   {
    "duration": 3,
    "start_time": "2023-04-24T13:58:55.834Z"
   },
   {
    "duration": 5,
    "start_time": "2023-04-24T13:58:55.839Z"
   },
   {
    "duration": 8,
    "start_time": "2023-04-24T13:58:55.846Z"
   },
   {
    "duration": 23,
    "start_time": "2023-04-24T13:58:55.856Z"
   },
   {
    "duration": 81,
    "start_time": "2023-04-24T14:01:17.919Z"
   },
   {
    "duration": 16,
    "start_time": "2023-04-24T14:01:36.479Z"
   },
   {
    "duration": 4,
    "start_time": "2023-04-24T14:02:04.534Z"
   },
   {
    "duration": 5,
    "start_time": "2023-04-24T14:02:04.540Z"
   },
   {
    "duration": 6,
    "start_time": "2023-04-24T14:02:04.547Z"
   },
   {
    "duration": 22,
    "start_time": "2023-04-24T14:02:04.555Z"
   },
   {
    "duration": 43,
    "start_time": "2023-04-24T14:02:04.579Z"
   },
   {
    "duration": 0,
    "start_time": "2023-04-24T14:02:04.623Z"
   },
   {
    "duration": 0,
    "start_time": "2023-04-24T14:02:04.625Z"
   },
   {
    "duration": 0,
    "start_time": "2023-04-24T14:02:04.626Z"
   },
   {
    "duration": 0,
    "start_time": "2023-04-24T14:02:04.627Z"
   },
   {
    "duration": 0,
    "start_time": "2023-04-24T14:02:04.628Z"
   },
   {
    "duration": 0,
    "start_time": "2023-04-24T14:02:04.630Z"
   },
   {
    "duration": 0,
    "start_time": "2023-04-24T14:02:04.631Z"
   },
   {
    "duration": 9,
    "start_time": "2023-04-24T14:02:04.684Z"
   },
   {
    "duration": 67,
    "start_time": "2023-04-24T14:02:35.320Z"
   },
   {
    "duration": 14,
    "start_time": "2023-04-24T14:02:35.389Z"
   },
   {
    "duration": 0,
    "start_time": "2023-04-24T14:02:35.405Z"
   },
   {
    "duration": 0,
    "start_time": "2023-04-24T14:02:35.406Z"
   },
   {
    "duration": 0,
    "start_time": "2023-04-24T14:02:35.407Z"
   },
   {
    "duration": 0,
    "start_time": "2023-04-24T14:02:35.409Z"
   },
   {
    "duration": 0,
    "start_time": "2023-04-24T14:02:35.410Z"
   },
   {
    "duration": 0,
    "start_time": "2023-04-24T14:02:35.412Z"
   },
   {
    "duration": 0,
    "start_time": "2023-04-24T14:02:35.413Z"
   },
   {
    "duration": 70,
    "start_time": "2023-04-24T14:02:51.486Z"
   },
   {
    "duration": 4,
    "start_time": "2023-04-24T14:02:51.557Z"
   },
   {
    "duration": 45,
    "start_time": "2023-04-24T14:02:51.562Z"
   },
   {
    "duration": 3,
    "start_time": "2023-04-24T14:02:51.608Z"
   },
   {
    "duration": 6,
    "start_time": "2023-04-24T14:02:51.613Z"
   },
   {
    "duration": 7,
    "start_time": "2023-04-24T14:02:51.621Z"
   },
   {
    "duration": 8,
    "start_time": "2023-04-24T14:02:51.629Z"
   },
   {
    "duration": 3188,
    "start_time": "2023-04-24T14:02:51.638Z"
   },
   {
    "duration": 3049,
    "start_time": "2023-04-24T14:03:07.336Z"
   },
   {
    "duration": 4,
    "start_time": "2023-04-24T14:03:54.307Z"
   },
   {
    "duration": 15,
    "start_time": "2023-04-24T14:03:54.315Z"
   },
   {
    "duration": 16,
    "start_time": "2023-04-24T14:03:54.332Z"
   },
   {
    "duration": 12,
    "start_time": "2023-04-24T14:03:54.349Z"
   },
   {
    "duration": 77,
    "start_time": "2023-04-24T14:03:54.362Z"
   },
   {
    "duration": 9,
    "start_time": "2023-04-24T14:03:54.440Z"
   },
   {
    "duration": 5,
    "start_time": "2023-04-24T14:03:54.451Z"
   },
   {
    "duration": 59,
    "start_time": "2023-04-24T14:03:54.457Z"
   },
   {
    "duration": 3,
    "start_time": "2023-04-24T14:03:54.518Z"
   },
   {
    "duration": 18,
    "start_time": "2023-04-24T14:03:54.523Z"
   },
   {
    "duration": 25,
    "start_time": "2023-04-24T14:03:54.542Z"
   },
   {
    "duration": 31,
    "start_time": "2023-04-24T14:03:54.568Z"
   },
   {
    "duration": 2286,
    "start_time": "2023-04-24T14:03:54.601Z"
   },
   {
    "duration": 16,
    "start_time": "2023-04-24T14:05:11.898Z"
   },
   {
    "duration": 15,
    "start_time": "2023-04-24T14:05:28.728Z"
   },
   {
    "duration": 3,
    "start_time": "2023-04-24T14:06:12.394Z"
   },
   {
    "duration": 7,
    "start_time": "2023-04-24T14:06:12.399Z"
   },
   {
    "duration": 11,
    "start_time": "2023-04-24T14:06:12.407Z"
   },
   {
    "duration": 5,
    "start_time": "2023-04-24T14:06:12.419Z"
   },
   {
    "duration": 72,
    "start_time": "2023-04-24T14:06:12.426Z"
   },
   {
    "duration": 9,
    "start_time": "2023-04-24T14:06:12.500Z"
   },
   {
    "duration": 4,
    "start_time": "2023-04-24T14:06:12.511Z"
   },
   {
    "duration": 57,
    "start_time": "2023-04-24T14:06:12.516Z"
   },
   {
    "duration": 3,
    "start_time": "2023-04-24T14:06:12.575Z"
   },
   {
    "duration": 7,
    "start_time": "2023-04-24T14:06:12.580Z"
   },
   {
    "duration": 6,
    "start_time": "2023-04-24T14:06:12.588Z"
   },
   {
    "duration": 11,
    "start_time": "2023-04-24T14:06:12.595Z"
   },
   {
    "duration": 2153,
    "start_time": "2023-04-24T14:06:12.608Z"
   },
   {
    "duration": 7,
    "start_time": "2023-04-24T14:06:45.324Z"
   },
   {
    "duration": 3,
    "start_time": "2023-04-24T14:07:09.605Z"
   },
   {
    "duration": 4,
    "start_time": "2023-04-24T14:07:24.022Z"
   },
   {
    "duration": 27,
    "start_time": "2023-04-24T14:07:24.029Z"
   },
   {
    "duration": 18,
    "start_time": "2023-04-24T14:07:24.057Z"
   },
   {
    "duration": 4,
    "start_time": "2023-04-24T14:07:24.076Z"
   },
   {
    "duration": 68,
    "start_time": "2023-04-24T14:07:24.082Z"
   },
   {
    "duration": 9,
    "start_time": "2023-04-24T14:07:24.152Z"
   },
   {
    "duration": 10,
    "start_time": "2023-04-24T14:07:24.163Z"
   },
   {
    "duration": 42,
    "start_time": "2023-04-24T14:07:24.175Z"
   },
   {
    "duration": 3,
    "start_time": "2023-04-24T14:07:24.218Z"
   },
   {
    "duration": 10,
    "start_time": "2023-04-24T14:07:24.223Z"
   },
   {
    "duration": 12,
    "start_time": "2023-04-24T14:07:24.234Z"
   },
   {
    "duration": 16,
    "start_time": "2023-04-24T14:07:24.247Z"
   },
   {
    "duration": 18,
    "start_time": "2023-04-24T14:07:24.264Z"
   },
   {
    "duration": 3,
    "start_time": "2023-04-24T14:08:03.128Z"
   },
   {
    "duration": 11,
    "start_time": "2023-04-24T14:08:18.103Z"
   },
   {
    "duration": 123,
    "start_time": "2023-04-24T14:09:24.698Z"
   },
   {
    "duration": 11,
    "start_time": "2023-04-24T14:09:37.816Z"
   },
   {
    "duration": 3,
    "start_time": "2023-04-24T14:10:26.591Z"
   },
   {
    "duration": 8,
    "start_time": "2023-04-24T14:10:50.450Z"
   },
   {
    "duration": 7,
    "start_time": "2023-04-24T14:11:24.182Z"
   },
   {
    "duration": 110,
    "start_time": "2023-04-24T14:11:42.584Z"
   },
   {
    "duration": 9,
    "start_time": "2023-04-24T14:12:08.735Z"
   },
   {
    "duration": 4,
    "start_time": "2023-04-24T14:12:31.887Z"
   },
   {
    "duration": 10,
    "start_time": "2023-04-24T14:12:52.635Z"
   },
   {
    "duration": 170,
    "start_time": "2023-04-24T14:13:01.639Z"
   },
   {
    "duration": 9,
    "start_time": "2023-04-24T14:13:24.478Z"
   },
   {
    "duration": 8,
    "start_time": "2023-04-24T14:13:57.314Z"
   },
   {
    "duration": 5,
    "start_time": "2023-04-24T14:14:18.178Z"
   },
   {
    "duration": 4,
    "start_time": "2023-04-24T14:14:38.632Z"
   },
   {
    "duration": 142,
    "start_time": "2023-04-24T14:14:50.844Z"
   },
   {
    "duration": 512,
    "start_time": "2023-04-24T14:15:20.333Z"
   },
   {
    "duration": 186,
    "start_time": "2023-04-24T14:15:56.374Z"
   },
   {
    "duration": 306,
    "start_time": "2023-04-24T14:16:34.990Z"
   },
   {
    "duration": 184,
    "start_time": "2023-04-24T14:17:09.685Z"
   },
   {
    "duration": 392,
    "start_time": "2023-04-24T14:17:47.007Z"
   },
   {
    "duration": 8,
    "start_time": "2023-04-24T14:18:19.185Z"
   },
   {
    "duration": 131,
    "start_time": "2023-04-24T14:18:30.550Z"
   },
   {
    "duration": 130,
    "start_time": "2023-04-24T14:18:41.194Z"
   },
   {
    "duration": 5,
    "start_time": "2023-04-24T14:19:13.978Z"
   },
   {
    "duration": 134,
    "start_time": "2023-04-24T14:19:48.641Z"
   },
   {
    "duration": 107,
    "start_time": "2023-04-24T14:20:18.815Z"
   },
   {
    "duration": 5,
    "start_time": "2023-04-24T14:20:52.344Z"
   },
   {
    "duration": 433,
    "start_time": "2023-04-24T14:21:42.921Z"
   },
   {
    "duration": 36,
    "start_time": "2023-04-24T14:22:04.264Z"
   },
   {
    "duration": 4,
    "start_time": "2023-04-24T14:22:31.690Z"
   },
   {
    "duration": 11,
    "start_time": "2023-04-24T14:23:07.380Z"
   },
   {
    "duration": 6,
    "start_time": "2023-04-24T14:23:32.312Z"
   },
   {
    "duration": 9,
    "start_time": "2023-04-24T14:24:13.805Z"
   },
   {
    "duration": 8,
    "start_time": "2023-04-24T14:24:36.190Z"
   },
   {
    "duration": 23,
    "start_time": "2023-04-24T14:24:53.532Z"
   },
   {
    "duration": 8,
    "start_time": "2023-04-24T14:25:24.450Z"
   },
   {
    "duration": 4,
    "start_time": "2023-04-24T14:26:10.575Z"
   },
   {
    "duration": 4,
    "start_time": "2023-04-24T14:26:10.583Z"
   },
   {
    "duration": 3,
    "start_time": "2023-04-24T14:26:10.589Z"
   },
   {
    "duration": 6,
    "start_time": "2023-04-24T14:26:10.594Z"
   },
   {
    "duration": 68,
    "start_time": "2023-04-24T14:26:10.615Z"
   },
   {
    "duration": 9,
    "start_time": "2023-04-24T14:26:10.684Z"
   },
   {
    "duration": 3,
    "start_time": "2023-04-24T14:26:10.695Z"
   },
   {
    "duration": 71,
    "start_time": "2023-04-24T14:26:10.699Z"
   },
   {
    "duration": 4,
    "start_time": "2023-04-24T14:26:10.772Z"
   },
   {
    "duration": 5,
    "start_time": "2023-04-24T14:26:10.777Z"
   },
   {
    "duration": 8,
    "start_time": "2023-04-24T14:26:10.783Z"
   },
   {
    "duration": 13,
    "start_time": "2023-04-24T14:26:10.793Z"
   },
   {
    "duration": 19,
    "start_time": "2023-04-24T14:26:10.808Z"
   },
   {
    "duration": 13,
    "start_time": "2023-04-24T14:26:10.828Z"
   },
   {
    "duration": 28,
    "start_time": "2023-04-24T14:26:10.843Z"
   },
   {
    "duration": 9,
    "start_time": "2023-04-24T14:26:10.873Z"
   },
   {
    "duration": 6,
    "start_time": "2023-04-24T14:26:10.912Z"
   },
   {
    "duration": 8,
    "start_time": "2023-04-24T14:26:10.921Z"
   },
   {
    "duration": 104,
    "start_time": "2023-04-24T14:26:10.930Z"
   },
   {
    "duration": 8,
    "start_time": "2023-04-24T14:26:11.036Z"
   },
   {
    "duration": 20,
    "start_time": "2023-04-24T14:26:11.046Z"
   },
   {
    "duration": 13,
    "start_time": "2023-04-24T14:26:11.067Z"
   },
   {
    "duration": 184,
    "start_time": "2023-04-24T14:26:11.081Z"
   },
   {
    "duration": 10,
    "start_time": "2023-04-24T14:26:11.267Z"
   },
   {
    "duration": 7,
    "start_time": "2023-04-24T14:26:11.279Z"
   },
   {
    "duration": 16,
    "start_time": "2023-04-24T14:26:11.288Z"
   },
   {
    "duration": 11,
    "start_time": "2023-04-24T14:26:11.306Z"
   },
   {
    "duration": 465,
    "start_time": "2023-04-24T14:26:11.319Z"
   },
   {
    "duration": 179,
    "start_time": "2023-04-24T14:26:11.788Z"
   },
   {
    "duration": 305,
    "start_time": "2023-04-24T14:26:11.968Z"
   },
   {
    "duration": 259,
    "start_time": "2023-04-24T14:26:12.275Z"
   },
   {
    "duration": 345,
    "start_time": "2023-04-24T14:26:12.535Z"
   },
   {
    "duration": 6,
    "start_time": "2023-04-24T14:26:12.882Z"
   },
   {
    "duration": 131,
    "start_time": "2023-04-24T14:26:12.889Z"
   },
   {
    "duration": 126,
    "start_time": "2023-04-24T14:26:13.021Z"
   },
   {
    "duration": 14,
    "start_time": "2023-04-24T14:26:13.150Z"
   },
   {
    "duration": 128,
    "start_time": "2023-04-24T14:26:13.165Z"
   },
   {
    "duration": 118,
    "start_time": "2023-04-24T14:26:13.294Z"
   },
   {
    "duration": 6,
    "start_time": "2023-04-24T14:26:13.414Z"
   },
   {
    "duration": 456,
    "start_time": "2023-04-24T14:26:13.421Z"
   },
   {
    "duration": 21,
    "start_time": "2023-04-24T14:26:13.879Z"
   },
   {
    "duration": 5,
    "start_time": "2023-04-24T14:26:13.901Z"
   },
   {
    "duration": 9,
    "start_time": "2023-04-24T14:26:13.907Z"
   },
   {
    "duration": 9,
    "start_time": "2023-04-24T14:26:13.917Z"
   },
   {
    "duration": 12,
    "start_time": "2023-04-24T14:26:13.927Z"
   },
   {
    "duration": 27,
    "start_time": "2023-04-24T14:26:13.941Z"
   },
   {
    "duration": 26,
    "start_time": "2023-04-24T14:26:13.969Z"
   },
   {
    "duration": 9,
    "start_time": "2023-04-24T14:26:13.997Z"
   },
   {
    "duration": 1182,
    "start_time": "2023-04-24T15:21:41.390Z"
   },
   {
    "duration": 3,
    "start_time": "2023-04-24T15:21:42.574Z"
   },
   {
    "duration": 20,
    "start_time": "2023-04-24T15:21:42.578Z"
   },
   {
    "duration": 26,
    "start_time": "2023-04-24T15:21:42.601Z"
   },
   {
    "duration": 88,
    "start_time": "2023-04-24T15:21:42.629Z"
   },
   {
    "duration": 10,
    "start_time": "2023-04-24T15:21:42.719Z"
   },
   {
    "duration": 12,
    "start_time": "2023-04-24T15:21:42.730Z"
   },
   {
    "duration": 132,
    "start_time": "2023-04-24T15:21:42.744Z"
   },
   {
    "duration": 0,
    "start_time": "2023-04-24T15:21:42.879Z"
   },
   {
    "duration": 0,
    "start_time": "2023-04-24T15:21:42.880Z"
   },
   {
    "duration": 0,
    "start_time": "2023-04-24T15:21:42.881Z"
   },
   {
    "duration": 0,
    "start_time": "2023-04-24T15:21:42.882Z"
   },
   {
    "duration": 0,
    "start_time": "2023-04-24T15:21:42.883Z"
   },
   {
    "duration": 0,
    "start_time": "2023-04-24T15:21:42.884Z"
   },
   {
    "duration": 0,
    "start_time": "2023-04-24T15:21:42.885Z"
   },
   {
    "duration": 0,
    "start_time": "2023-04-24T15:21:42.886Z"
   },
   {
    "duration": 0,
    "start_time": "2023-04-24T15:21:42.887Z"
   },
   {
    "duration": 0,
    "start_time": "2023-04-24T15:21:42.888Z"
   },
   {
    "duration": 0,
    "start_time": "2023-04-24T15:21:42.888Z"
   },
   {
    "duration": 0,
    "start_time": "2023-04-24T15:21:42.889Z"
   },
   {
    "duration": 1,
    "start_time": "2023-04-24T15:21:42.890Z"
   },
   {
    "duration": 1,
    "start_time": "2023-04-24T15:21:42.891Z"
   },
   {
    "duration": 0,
    "start_time": "2023-04-24T15:21:42.892Z"
   },
   {
    "duration": 0,
    "start_time": "2023-04-24T15:21:42.893Z"
   },
   {
    "duration": 0,
    "start_time": "2023-04-24T15:21:42.895Z"
   },
   {
    "duration": 0,
    "start_time": "2023-04-24T15:21:42.895Z"
   },
   {
    "duration": 0,
    "start_time": "2023-04-24T15:21:42.896Z"
   },
   {
    "duration": 0,
    "start_time": "2023-04-24T15:21:42.897Z"
   },
   {
    "duration": 0,
    "start_time": "2023-04-24T15:21:42.898Z"
   },
   {
    "duration": 0,
    "start_time": "2023-04-24T15:21:42.899Z"
   },
   {
    "duration": 0,
    "start_time": "2023-04-24T15:21:42.901Z"
   },
   {
    "duration": 0,
    "start_time": "2023-04-24T15:21:42.902Z"
   },
   {
    "duration": 0,
    "start_time": "2023-04-24T15:21:42.902Z"
   },
   {
    "duration": 0,
    "start_time": "2023-04-24T15:21:42.903Z"
   },
   {
    "duration": 0,
    "start_time": "2023-04-24T15:21:42.904Z"
   },
   {
    "duration": 0,
    "start_time": "2023-04-24T15:21:42.905Z"
   },
   {
    "duration": 0,
    "start_time": "2023-04-24T15:21:42.906Z"
   },
   {
    "duration": 0,
    "start_time": "2023-04-24T15:21:42.907Z"
   },
   {
    "duration": 0,
    "start_time": "2023-04-24T15:21:42.908Z"
   },
   {
    "duration": 0,
    "start_time": "2023-04-24T15:21:42.909Z"
   },
   {
    "duration": 0,
    "start_time": "2023-04-24T15:21:42.964Z"
   },
   {
    "duration": 0,
    "start_time": "2023-04-24T15:21:42.965Z"
   },
   {
    "duration": 0,
    "start_time": "2023-04-24T15:21:42.966Z"
   },
   {
    "duration": 0,
    "start_time": "2023-04-24T15:21:42.966Z"
   },
   {
    "duration": 0,
    "start_time": "2023-04-24T15:21:42.968Z"
   },
   {
    "duration": 0,
    "start_time": "2023-04-24T15:21:42.969Z"
   },
   {
    "duration": 0,
    "start_time": "2023-04-24T15:21:42.970Z"
   },
   {
    "duration": 0,
    "start_time": "2023-04-24T15:21:42.971Z"
   },
   {
    "duration": 71,
    "start_time": "2023-04-24T16:05:46.291Z"
   },
   {
    "duration": 1164,
    "start_time": "2023-04-24T16:05:50.299Z"
   },
   {
    "duration": 3,
    "start_time": "2023-04-24T16:05:51.465Z"
   },
   {
    "duration": 18,
    "start_time": "2023-04-24T16:05:51.469Z"
   },
   {
    "duration": 6,
    "start_time": "2023-04-24T16:05:51.489Z"
   },
   {
    "duration": 83,
    "start_time": "2023-04-24T16:05:51.496Z"
   },
   {
    "duration": 10,
    "start_time": "2023-04-24T16:05:51.581Z"
   },
   {
    "duration": 24,
    "start_time": "2023-04-24T16:05:51.592Z"
   },
   {
    "duration": 55,
    "start_time": "2023-04-24T16:05:51.618Z"
   },
   {
    "duration": 3,
    "start_time": "2023-04-24T16:05:51.675Z"
   },
   {
    "duration": 21,
    "start_time": "2023-04-24T16:05:51.680Z"
   },
   {
    "duration": 22,
    "start_time": "2023-04-24T16:05:51.702Z"
   },
   {
    "duration": 18,
    "start_time": "2023-04-24T16:05:51.725Z"
   },
   {
    "duration": 34,
    "start_time": "2023-04-24T16:05:51.744Z"
   },
   {
    "duration": 16,
    "start_time": "2023-04-24T16:05:51.780Z"
   },
   {
    "duration": 29,
    "start_time": "2023-04-24T16:05:51.797Z"
   },
   {
    "duration": 17,
    "start_time": "2023-04-24T16:05:51.827Z"
   },
   {
    "duration": 16,
    "start_time": "2023-04-24T16:05:51.846Z"
   },
   {
    "duration": 25,
    "start_time": "2023-04-24T16:05:51.864Z"
   },
   {
    "duration": 110,
    "start_time": "2023-04-24T16:05:51.890Z"
   },
   {
    "duration": 9,
    "start_time": "2023-04-24T16:05:52.001Z"
   },
   {
    "duration": 16,
    "start_time": "2023-04-24T16:05:52.011Z"
   },
   {
    "duration": 23,
    "start_time": "2023-04-24T16:05:52.029Z"
   },
   {
    "duration": 165,
    "start_time": "2023-04-24T16:05:52.053Z"
   },
   {
    "duration": 10,
    "start_time": "2023-04-24T16:05:52.219Z"
   },
   {
    "duration": 23,
    "start_time": "2023-04-24T16:05:52.231Z"
   },
   {
    "duration": 13,
    "start_time": "2023-04-24T16:05:52.255Z"
   },
   {
    "duration": 6,
    "start_time": "2023-04-24T16:05:52.269Z"
   },
   {
    "duration": 513,
    "start_time": "2023-04-24T16:05:52.279Z"
   },
   {
    "duration": 188,
    "start_time": "2023-04-24T16:05:52.794Z"
   },
   {
    "duration": 281,
    "start_time": "2023-04-24T16:05:52.984Z"
   },
   {
    "duration": 200,
    "start_time": "2023-04-24T16:05:53.267Z"
   },
   {
    "duration": 328,
    "start_time": "2023-04-24T16:05:53.469Z"
   },
   {
    "duration": 6,
    "start_time": "2023-04-24T16:05:53.799Z"
   },
   {
    "duration": 194,
    "start_time": "2023-04-24T16:05:53.806Z"
   },
   {
    "duration": 131,
    "start_time": "2023-04-24T16:05:54.002Z"
   },
   {
    "duration": 4,
    "start_time": "2023-04-24T16:05:54.135Z"
   },
   {
    "duration": 128,
    "start_time": "2023-04-24T16:05:54.141Z"
   },
   {
    "duration": 120,
    "start_time": "2023-04-24T16:05:54.271Z"
   },
   {
    "duration": 5,
    "start_time": "2023-04-24T16:05:54.393Z"
   },
   {
    "duration": 440,
    "start_time": "2023-04-24T16:05:54.399Z"
   },
   {
    "duration": 25,
    "start_time": "2023-04-24T16:05:54.841Z"
   },
   {
    "duration": 4,
    "start_time": "2023-04-24T16:05:54.868Z"
   },
   {
    "duration": 7,
    "start_time": "2023-04-24T16:05:54.873Z"
   },
   {
    "duration": 5,
    "start_time": "2023-04-24T16:05:54.882Z"
   },
   {
    "duration": 9,
    "start_time": "2023-04-24T16:05:54.888Z"
   },
   {
    "duration": 10,
    "start_time": "2023-04-24T16:05:54.898Z"
   },
   {
    "duration": 54,
    "start_time": "2023-04-24T16:05:54.910Z"
   },
   {
    "duration": 9,
    "start_time": "2023-04-24T16:05:54.966Z"
   }
  ],
  "hide_input": false,
  "kernelspec": {
   "display_name": "Python 3 (ipykernel)",
   "language": "python",
   "name": "python3"
  },
  "language_info": {
   "codemirror_mode": {
    "name": "ipython",
    "version": 3
   },
   "file_extension": ".py",
   "mimetype": "text/x-python",
   "name": "python",
   "nbconvert_exporter": "python",
   "pygments_lexer": "ipython3",
   "version": "3.9.13"
  },
  "toc": {
   "base_numbering": 1,
   "nav_menu": {},
   "number_sections": true,
   "sideBar": true,
   "skip_h1_title": true,
   "title_cell": "Table of Contents",
   "title_sidebar": "Contents",
   "toc_cell": false,
   "toc_position": {},
   "toc_section_display": true,
   "toc_window_display": true
  }
 },
 "nbformat": 4,
 "nbformat_minor": 4
}
